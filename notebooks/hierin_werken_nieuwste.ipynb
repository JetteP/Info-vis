{
 "cells": [
  {
   "cell_type": "markdown",
   "id": "ba2fda4a",
   "metadata": {},
   "source": [
    "# De invloed van klimaat en geografie op voedselproductie\n",
    "Neerslag, temperatuur en klimaatzone bepalen welke gewassen vanzelf groeien en hoeveel energie een boer moet bijpompen. In warme, natte gebieden ontstaan hoge opbrengsten met weinig inputs; in koude of droge streken vergen irrigatie, kassen en extra voer juist veel uitstoot. Ook afstand telt: hoe verder een land van zijn afzet- of aanvoermarkt ligt, hoe meer transport-CO₂ het voedselsysteem meedraagt. Dit perspectief laat met vier uiterste voorbeelden zien hoe natuurlijke groeicondities én geografische ligging samen de klimaatafdruk van nationale landbouwsystemen vormen.\n",
    "Binnen dit perspectief onderscheiden we twee kernargumenten:\n",
    "- Internationale handelsstromen beïnvloeden nationale uitstoot\n",
    "- De geografische ligging van een land (en de bijbehorende klimaatzones) beïnvloedt welke gewassen en dieren men produceert — en dat heeft directe impact op de landbouwgerelateerde CO₂-uitstoot per capita.\n"
   ]
  },
  {
   "cell_type": "markdown",
   "id": "760ec173",
   "metadata": {},
   "source": [
    "### Internationale handelsstromen beïnvloeden nationale uitstoot\n",
    "\n",
    "Sinds de 19e eeuw hebben landen met gemakkelijk bereikbare zee- of rivierhavens een structureel transportvoordeel. Die geografische ligging vormde vroege exportclusters voor graan, vlees en oliegewassen, die in veel gevallen nog altijd dominant zijn. Daardoor gaan we ervan uit dat zulke “logistiek gunstige” landen tegenwoordig zowel grote landbouw­exportvolumes als een hogere landbouw-CO₂-uitstoot per inwoner laten zien.\n",
    "\n",
    "De reden is eenvoudig: alle broeikasgassen die vrijkomen tijdens de teelt en verwerking worden in het producentenland geboekt, ook wanneer het voedsel naar het buitenland gaat. Een hoge uitstoot per inwoner weerspiegelt dus niet noodzakelijkerwijs wat de lokale bevolking eet, maar eerder hoeveel zij voor de wereldmarkt produceert. Met andere woorden, intensieve export verlegt de emissielast naar de exporteur, terwijl de consumptie elders plaatsvindt.\n",
    "\n",
    "Dus hoe groter de landbouw­export per inwoner, des te hoger de landbouwgerelateerde CO₂-uitstoot per inwoner.\n"
   ]
  },
  {
   "cell_type": "code",
   "execution_count": 21,
   "id": "64df8a33",
   "metadata": {},
   "outputs": [
    {
     "data": {
      "application/vnd.plotly.v1+json": {
       "config": {
        "plotlyServerURL": "https://plot.ly"
       },
       "data": [
        {
         "legendgroup": "Argentina",
         "line": {
          "color": "#F79B9B",
          "dash": "solid",
          "width": 3
         },
         "mode": "lines",
         "name": "Argentina",
         "showlegend": true,
         "type": "scatter",
         "visible": true,
         "x": {
          "bdata": "wQfCB8MHxAfFB8YHxwfIB8kHygfLB8wHzQfOB88H0AfRB9IH0wfUB9UH1gfXB9gH2QfaB9sH3AfdB94H3wfgB+EH4gfjB+QH5QfmBw==",
          "dtype": "i2"
         },
         "y": {
          "bdata": "rkfhevQ4u0BNhA1PT5O6QFYOLbLd0LlA+u3rwLlfukDzjlN0RI26QKFns+ozprpAhJ7Nqh9ZukDzH9Jvr5m6QCtlGeJYKbpA+1xtxW5cukCsHFpkSxi6QLpJDAK7N7lAj8L1KAzmuECEns2qP/+3QOlILv+BjbhAtFn1uVpGuEBVwaiknk+4QPVKWYY4qblAdEaU9qZ9u0D+1Hjplge8QKIjufyHJ7xAXrpJDPLGvEB4nKIj6f68QCsYldRpfbxAhJ7Nqn//ukCV1AloMoO4QAFvgQSlJLhA9P3UeDkAuUCKH2PuGoe5QB4Wak3j0LlA2/l+aryVuUB9PzVeOhG6QJ7Nqs9FE7tAnDOitKcEu0BCrWnewSa7QEHxY8wt6LpABHgLJNhcukBfB84ZsbC6QA==",
          "dtype": "f8"
         }
        },
        {
         "legendgroup": "Brazil",
         "line": {
          "color": "#F7CB9B",
          "dash": "solid",
          "width": 3
         },
         "mode": "lines",
         "name": "Brazil",
         "showlegend": true,
         "type": "scatter",
         "visible": true,
         "x": {
          "bdata": "wQfCB8MHxAfFB8YHxwfIB8kHygfLB8wHzQfOB88H0AfRB9IH0wfUB9UH1gfXB9gH2QfaB9sH3AfdB94H3wfgB+EH4gfjB+QH5QfmBw==",
          "dtype": "i2"
         },
         "y": {
          "bdata": "78nDQrF60EB8YTJVUAfRQAg9m1W/fNFA8kHPZnH10UAlBoGV+3rSQNIA3gIdwtJAoImw4ZVl00CiRbbzdbLTQPtcbcX6utNAbqMBvGUe1ECJQWDltH7UQErqBDQ5t9NAUUmdgAIY1EC3Yn/ZXU3UQJM6AU1wi9RA3EYDeJ8s1UDazvdTc+jVQBx8YTJt8tZA30+Nl+Il2ED67evAhT7ZQOqVsgy1mNlA5tAi22lp2UCP5PIfDrbYQKRwPQojCNlA2BLyQQdn2UBseHqlHOnZQAHeAgk+UdpAqRPQRAQU2kAzorQ3aCXaQEATYcM7PdpA9dvXgWOH2kD35GGhps7aQHzysFDLY9pAO99PjdM+2kA/NV66SWbaQLaEfND3vdpA16NwPaaF20BfmEwVnKvcQA==",
          "dtype": "f8"
         }
        },
        {
         "legendgroup": "India",
         "line": {
          "color": "#A1F79B",
          "dash": "solid",
          "width": 3
         },
         "mode": "lines",
         "name": "India",
         "showlegend": true,
         "type": "scatter",
         "visible": true,
         "x": {
          "bdata": "wQfCB8MHxAfFB8YHxwfIB8kHygfLB8wHzQfOB88H0AfRB9IH0wfUB9UH1gfXB9gH2QfaB9sH3AfdB94H3wfgB+EH4gfjB+QH5QfmBw==",
          "dtype": "i2"
         },
         "y": {
          "bdata": "UiegiRhd3ECUh4Va37/cQDxO0ZEModxA6Nms+oA33UCYbhKDFIvdQKs+V1tp4N1AOiNKe+8q3kAVHcnlv3jeQBHHurjRq95A9UpZhhTb3kAzxLEuSv/eQE7RkVzWNd9AiIVa09xG30AXSFD8oHLfQD55WKhJhN9AWmQ73yd330BWn6utaJrfQPaX3ZO7SN9Af9k9eQCQ30BuNIC3MPjfQEmdgCZUVeBAuycPC9eU4ECfzarP6fLgQNbFbTRkCuFA001iEEDc4EBDrWnew+/gQJOpglFXA+FARUdy+Rnz4EDP91PjNQHhQGNd3EbvAuFApHA9Cqkd4UBd/kP6aUbhQNBE2PA6YOFAn6ut2PuB4UAawFsg6ZThQGpN846h2eFAJCh+jL3U4UCMSuoEuubhQA==",
          "dtype": "f8"
         }
        },
        {
         "legendgroup": "Thailand",
         "line": {
          "color": "#6CBEF5",
          "dash": "solid",
          "width": 3
         },
         "mode": "lines",
         "name": "Thailand",
         "showlegend": true,
         "type": "scatter",
         "visible": true,
         "x": {
          "bdata": "wQfCB8MHxAfFB8YHxwfIB8kHygfLB8wHzQfOB88H0AfRB9IH0wfUB9UH1gfXB9gH2QfaB9sH3AfdB94H3wfgB+EH4gfjB+QH5QfmBw==",
          "dtype": "i2"
         },
         "y": {
          "bdata": "p3nHKRqZpkD7OnDOiNWlQLHh6ZUymqVAL0ymCiZxpkB7pSxDfFmmQDy9UpYh+KRACKwcWqTppUC4QILip1CmQLsnDwsVYqZAGw3gLTB1pkDPiNLeIHSlQFrTvOM0vaRAZMxdS+jIpEBDHOvi1kijQFdbsb8sLaNAI9v5fkrQokCoxks3SQGjQEw3iUEAqaJAFmpN8y6co0C/fR04p6qjQNQrZRmCQqRA0gDeAomDpEC2FfvLLo2lQAbwFkjQpKVAN4lBYAUipkDYgXNGdOymQNzXgXPmeaZAwoanV0oapkBn1edq61ClQAfOGVH6lKNAJlMFoxJDokBn1edqi6ajQAskKH7MpqNAk6mCUUmNo0CTOgFNxFyiQMQgsHLowqNAvw6cMwLto0AT0ETY0DWkQA==",
          "dtype": "f8"
         }
        },
        {
         "legendgroup": "United States of America",
         "line": {
          "color": "#F1A1F7",
          "dash": "solid",
          "width": 3
         },
         "mode": "lines",
         "name": "United States of America",
         "showlegend": true,
         "type": "scatter",
         "visible": true,
         "x": {
          "bdata": "wQfCB8MHxAfFB8YHxwfIB8kHygfLB8wHzQfOB88H0AfRB9IH0wfUB9UH1gfXB9gH2QfaB9sH3AfdB94H3wfgB+EH4gfjB+QH5QfmBw==",
          "dtype": "i2"
         },
         "y": {
          "bdata": "H2PuWjID0UC/Dpwzzm3QQHPXEvLZ2c9AZ0Rpb0iTz0CWsgxxzOrOQCntDb4otM5AAwmKH7vDzkDQ1VbsHx3PQKs+V1vRQc9Aw2SqYCzhz0AcfGEytQfQQNZW7C8XBNBAKcsQx3Liz0DqBDQRToPPQHrHKTpiSs9AE2HD06P7zkBrK/aXLdvOQAK8BRJcvM5Axty1hHSmzkDImLuWGIrOQEoMAisnuc5AwOyePMQDz0DOiNLeIBrPQO84RUciX89AvHSTGBzpzkAVjErqTOPOQGaIY12sdc5ATKYKRl0dzkDjNhrAE8XNQKmCUUl1uM1AnRGlvbnTzUDqlbIMabzOQL3jFB0RAc9AwcqhRf5tz0D6XG3FxofPQIxK6gT8Z89An82qz6Uuz0AyCKwcgqbOQA==",
          "dtype": "f8"
         }
        },
        {
         "legendgroup": "Argentina",
         "line": {
          "color": "#F79B9B",
          "dash": "solid",
          "width": 3
         },
         "mode": "lines",
         "name": "Argentina",
         "showlegend": true,
         "type": "scatter",
         "visible": false,
         "x": {
          "bdata": "wQfCB8MHxAfFB8YHxwfIB8kHygfLB8wHzQfOB88H0AfRB9IH0wfUB9UH1gfXB9gH2QfaB9sH3AfdB94H3wfgB+EH4gfjB+QH5QfmBw==",
          "dtype": "i2"
         },
         "y": {
          "bdata": "Bb46xYlnzT8U6B9ZM0PMP990HE6mCMs/deTv/IIxyz9dg2ZI9vXKPzlDVwO5qMo/FEnpZkn7yT+bjchRod7JP6yvaeHNGck//Kt6NqD0yD+NWJKgy2HIP6arnQGZRMc/8w+H2Dmyxj+t4A+FZp7FP/j2/Mik3cU/lSw/q+tfxT+FmEFdPSzFP+rF7v5eHMY/ZJQqCKtxxz+oqas0j6nHPwedXxJUhsc/BX5VFY/Mxz+x8DgaTb7HP3mtfAsTGMc/7Iucqm6nxT8o7hlUMXTDP0wzlvQz9cI/w++xqj1uwz9sRpjo4qTDP5RNnVB2qcM/M4uvKHFIwz/xFc0bBXXDP5hFdKo8CMQ/Ixg32HrTwz+FfV+QX8jDP72W/kuDgsM/puF0an0Qwz/Peok7uELDPw==",
          "dtype": "f8"
         }
        },
        {
         "legendgroup": "Brazil",
         "line": {
          "color": "#F7CB9B",
          "dash": "solid",
          "width": 3
         },
         "mode": "lines",
         "name": "Brazil",
         "showlegend": true,
         "type": "scatter",
         "visible": false,
         "x": {
          "bdata": "wQfCB8MHxAfFB8YHxwfIB8kHygfLB8wHzQfOB88H0AfRB9IH0wfUB9UH1gfXB9gH2QfaB9sH3AfdB94H3wfgB+EH4gfjB+QH5QfmBw==",
          "dtype": "i2"
         },
         "y": {
          "bdata": "odfpeLjgvz/6hBZbZSLAPyB1LkNwPsA/CW9qOr9dwD/F1tqhrIjAP5YxQJBBfMA/aVxpSK/BwD8LTAU3ErzAPxiSFEZafsA/zn+ZQ62OwD/6r+UZ/pvAP/qkQSm6eb8/gMMtJhKbvz8tVyiJRna/Pzfq1jqdYL8/vuWcK7flvz9AJCFWoUnAPw/6yTh92cA/o/j4HP6FwT8r29eJ8xzCPzo7N2pqKsI/xNrTUj/YwT9freNojS3BPwPUUgMkPME/gLrcho1VwT/vhTQIa4jBP8/8EfvtqcE/IFRU4p1cwT86itv5OETBP/LuJktVMME/sFZys9M9wT82W3kSSUrBP9WrlWm/5cA/b7UAecawwD/UueCX8K3AP6LFS69ZzMA/xfmvCP82wT/JUcw+XN7BPw==",
          "dtype": "f8"
         }
        },
        {
         "legendgroup": "India",
         "line": {
          "color": "#A1F79B",
          "dash": "solid",
          "width": 3
         },
         "mode": "lines",
         "name": "India",
         "showlegend": true,
         "type": "scatter",
         "visible": false,
         "x": {
          "bdata": "wQfCB8MHxAfFB8YHxwfIB8kHygfLB8wHzQfOB88H0AfRB9IH0wfUB9UH1gfXB9gH2QfaB9sH3AfdB94H3wfgB+EH4gfjB+QH5QfmBw==",
          "dtype": "i2"
         },
         "y": {
          "bdata": "Wl/DGxc/oz/qZ9+0KBCjP5o6nnsijqI/Ezs5scSDoj9fNBcQ0U6iP9mnEevzG6I/LCu8Z73koT/luCJVYrGhP49QLjZNcKE/ffsPFkowoT9KVT0gXuygPyv1Tzres6A/6xeloIppoD+nOdxYgi+gPx+Rk6a41J8/UiMmEv0vnz9hb21eUr6eP9UT/bEF450/7gs9NGKinT8SIvjuaIKdP9Y6v9U7qp0/+tZvZu+lnT+CFxEkLtqdP2DCC4XGlZ0/9gTqWhbanD9opQ27VpCcP+u6SEsESpw/RyNSqI3Mmz8MLnd9LIWbP8RJvYygL5s/DmCqTE4Hmz8XBbLB7/SaP8G38wkBzZo/OLxIo5+1mj+eCUegdIuaP16mEypgsJo/YEy6tiVxmj85B7CYVFaaPw==",
          "dtype": "f8"
         }
        },
        {
         "legendgroup": "Thailand",
         "line": {
          "color": "#6CBEF5",
          "dash": "solid",
          "width": 3
         },
         "mode": "lines",
         "name": "Thailand",
         "showlegend": true,
         "type": "scatter",
         "visible": false,
         "x": {
          "bdata": "wQfCB8MHxAfFB8YHxwfIB8kHygfLB8wHzQfOB88H0AfRB9IH0wfUB9UH1gfXB9gH2QfaB9sH3AfdB94H3wfgB+EH4gfjB+QH5QfmBw==",
          "dtype": "i2"
         },
         "y": {
          "bdata": "G7MUWc91rT+2/57rs/WrPycetv7UL6s/SdLm2h3Eqz/p5hC9PTOrPxcg3i8MG6k/pLBgHarPqT8t06x55d6pPzvxHJlXjak/U4cwuhlDqT89GMqAZ8qnP7E3ZzzOrqY/PRjMRIBupj/1KeGv44qkP3mX7F4/LKQ/yQ3+XYuRoz8ofJDAW5GjP9wpjH9eB6M/FT3TEN7Poz9xIoFoHLGjP/5IucCvHKQ/+Qg5LyUypD+WZwGxZAylP2M9Ty0Q+qQ/VMATTAFLpT9H5C+CBeilP5fUT4Z3WKU/Adg8gXncpD+uUkTfQACkP2DW/brURqI/DWDtnWH3oD9kusP6liyiP3ve5MkvGaI/yvH9Z7/zoT+ucBdwUtOgP6U6xSLGE6I/9cfoo7M0oj8WfBKIsnaiPw==",
          "dtype": "f8"
         }
        },
        {
         "legendgroup": "United States of America",
         "line": {
          "color": "#F1A1F7",
          "dash": "solid",
          "width": 3
         },
         "mode": "lines",
         "name": "United States of America",
         "showlegend": true,
         "type": "scatter",
         "visible": false,
         "x": {
          "bdata": "wQfCB8MHxAfFB8YHxwfIB8kHygfLB8wHzQfOB88H0AfRB9IH0wfUB9UH1gfXB9gH2QfaB9sH3AfdB94H3wfgB+EH4gfjB+QH5QfmBw==",
          "dtype": "i2"
         },
         "y": {
          "bdata": "5M13qMNzsj8U42BTaKexPwhZEqeh9bA/Rah90mGpsD8xC92OdSqwP45ds889xK8/gIjOsexxrz/hkdF1/mqvP3pFGH7pMq8/eSfdO8d6rz8By/Hf6lWvP+9pBYlJAK8/DOMAQ3OQrj/OX33K/eqtP4qeJbY4bK0/Tue206zarD+6R+JXGnSsP/iO+ozMEKw/+lt0zAK3qz/VNNXS31erPweD9DU5PKs/K4NtOl03qz/MKLO25wKrP0EMkcJW96o/Ej1b7ndOqj+2oRGExQeqP8xBnrK8a6k/dvmI3vXkqD/RqQe4BmGoP6zVZfXAHKg/ndwnvK35pz+rn/41DnqoP33q/Kord6g/m/X8jBWXqD/23zJ9JnioPyOc7j04Qag/6zZTVMsHqD+fpWOxk4anPw==",
          "dtype": "f8"
         }
        },
        {
         "legendgroup": "Argentina",
         "line": {
          "color": "#F79B9B",
          "dash": "solid",
          "width": 3
         },
         "mode": "lines",
         "name": "Argentina",
         "showlegend": true,
         "type": "scatter",
         "visible": false,
         "x": {
          "bdata": "wQfCB8MHxAfFB8YHxwfIB8kHygfLB8wHzQfOB88H0AfRB9IH0wfUB9UH1gfXB9gH2QfaB9sH3AfdB94H3wfgB+EH4gfjB+QH5QfmBw==",
          "dtype": "i2"
         },
         "y": {
          "bdata": "AAAAAAAA+H8AAABgcChkQQAAAIDyTmFBAAAAAN0EYUEAAABAcyBcQQAAAACRyWNBAAAAIEMZZUEAAABg/QlqQQAAAEDENGZBAAAAAEprZEEAAABAYAltQQAAAGBJUWZBAAAAgBFEdUEAAABgXhV4QQAAAAAAAPh/AAAAcPXldkEAAABgHTF2QQAAAPD6E3NBAAAAcDiWckEAAAAQTp5zQQAAAKBqw3lBAAAAgHsndUEAAAAwVjJ5QQAAAICn/nhBAAAAIMbWbUEAAACwhwh2QQAAADDUJXlBAAAA0DXIfUEAAACQ1u52QdejcBUTRHJBMzMz869ddUFI4Xp4JGiBQfYoXFMXYIJBuB6FtbFRgUFxPQr/AwaHQXE9CiFFUodBZmZmDkCThkFxPQphZgyIQQ==",
          "dtype": "f8"
         }
        },
        {
         "legendgroup": "Brazil",
         "line": {
          "color": "#F7CB9B",
          "dash": "solid",
          "width": 3
         },
         "mode": "lines",
         "name": "Brazil",
         "showlegend": true,
         "type": "scatter",
         "visible": false,
         "x": {
          "bdata": "wQfCB8MHxAfFB8YHxwfIB8kHygfLB8wHzQfOB88H0AfRB9IH0wfUB9UH1gfXB9gH2QfaB9sH3AfdB94H3wfgB+EH4gfjB+QH5QfmBw==",
          "dtype": "i2"
         },
         "y": {
          "bdata": "AAAAAAAA+H8AAAAACLkUQQAAAABIDBJBAAAAALwxFEEAAAAA8MwTQQAAAAC83xRBAAAAAHyFGUEAAAAAtGofQQAAAAD+2yNBAAAAAL6AIUEAAAAABIgdQQAAAABgzi5BAAAAAP7cKUEAAAAA/qYoQQAAAABtMjBBAAAAALDrMUEAAADAG3BbQQAAAIDxt1JBAAAAgOlJV0EAAACAeB1iQQAAAAA/L1JBAAAAwCkLXkEAAAAg4TRsQQAAAIBNlmVBAAAAIBXWZ0EAAACg8UNvQQAAAIDX7m9BAAAA0ILJeUEAAABwc9J+QT0K1xNlTnhBXI/CcxoHgUGF61EQzUJ6QXE9CjucoIBBFa5Hdd52e0GkcD1MiyiHQXE9CrUYX4NBuB6FT+MwekFI4Xo2dQyJQQ==",
          "dtype": "f8"
         }
        },
        {
         "legendgroup": "India",
         "line": {
          "color": "#A1F79B",
          "dash": "solid",
          "width": 3
         },
         "mode": "lines",
         "name": "India",
         "showlegend": true,
         "type": "scatter",
         "visible": false,
         "x": {
          "bdata": "wQfCB8MHxAfFB8YHxwfIB8kHygfLB8wHzQfOB88H0AfRB9IH0wfUB9UH1gfXB9gH2QfaB9sH3AfdB94H3wfgB+EH4gfjB+QH5QfmBw==",
          "dtype": "i2"
         },
         "y": {
          "bdata": "AAAAAAAA+H8AAAAA5MAeQQAAAABE+SNBAAAAALRMGEEAAAAA4MocQQAAAABiTSVBAAAAAFTBNEEAAAAAcJ4jQQAAAADo5i9BAAAAAERWMEEAAABAqDRVQQAAAIBckEtBAAAAAJVHREEAAABA8glTQQAAAIBoK0BBAAAAgEOVREEAAACAkIZTQQAAAIAI9GBBAAAAgJGHX0EAAACAH6NeQQAAAEAG91RBAAAAgIhHVUEAAAAAIgtiQQAAAACOSllBAAAAwPKJU0EAAABAhBhUQQAAAEDw62NBAAAAkBBXckEAAAAArZB1QexRuNoc4XFBH4XryeRDZ0HXo3Bt9L5kQfYoXEeWh2dBmZmZmR03Z0EfheuJqaFkQXsUrmc9HXBB16Nwfd58ekGuR+FaTCl8QQ==",
          "dtype": "f8"
         }
        },
        {
         "legendgroup": "Thailand",
         "line": {
          "color": "#6CBEF5",
          "dash": "solid",
          "width": 3
         },
         "mode": "lines",
         "name": "Thailand",
         "showlegend": true,
         "type": "scatter",
         "visible": false,
         "x": {
          "bdata": "wQfCB8MHxAfFB8YHxwfIB8kHygfLB8wHzQfOB88H0AfRB9IH0wfUB9UH1gfXB9gH2QfaB9sH3AfdB94H3wfgB+EH4gfjB+QH5QfmBw==",
          "dtype": "i2"
         },
         "y": {
          "bdata": "AAAAAAAA+H8AAAAAKDRcQQAAAEDhe1VBAAAAAN96VkEAAAAAD0xbQQAAAIDoY1JBAAAAwM/vUkEAAABAtFpRQQAAAEDx+FFBAAAAwDVhUUEAAACAowRWQQAAAED3zlJBAAAAAB/LUkEAAACAkEJXQQAAAEDxOFdBAAAAAFdEVUEAAAAA/blbQQAAAIA6+1hBAAAAQO75WEEAAACAnF5iQQAAAED9lFdBAAAAADxiWEEAAABAtCteQQAAACCLDWJBAAAAQBa0XkEAAABAsi1fQQAAAKBimmJBAAAAwOg0V0EAAAAArI5ZQT4K14MWKGRBCtejiNQqYUG4HoXzQdZhQSlcj3rX5mRBexSu7770Y0HsUbhOhOpbQc3MzLzyuVRBcT0Kh22yVkHrUbh+wgRcQQ==",
          "dtype": "f8"
         }
        },
        {
         "legendgroup": "United States of America",
         "line": {
          "color": "#F1A1F7",
          "dash": "solid",
          "width": 3
         },
         "mode": "lines",
         "name": "United States of America",
         "showlegend": true,
         "type": "scatter",
         "visible": false,
         "x": {
          "bdata": "wQfCB8MHxAfFB8YHxwfIB8kHygfLB8wHzQfOB88H0AfRB9IH0wfUB9UH1gfXB9gH2QfaB9sH3AfdB94H3wfgB+EH4gfjB+QH5QfmBw==",
          "dtype": "i2"
         },
         "y": {
          "bdata": "AAAAAAAA+H8AAAD48G+JQQAAAHxxhpFBAAAAVDIGlUEAAADoaE2WQQAAAGxpRZNBAAAAnLpUkkEAAAB8V72RQQAAAExjj5JBAAAAJBWHkEEAAACI/rmWQQAAALg0j5RBAAAABExfkUEAAACEWYiRQQAAABSvJ5RBAAAAaF1ik0EAAABAC+6SQQAAAPzvi5JBAAAAdLjNkUEAAAAATGmUQQAAAFRq1JJBAAAA8LvqlEEAAABgHPWWQQAAAAQ7HZZBAAAAMOackkEAAAC49KiUQQAAADRL3ZRBAAAAABDSj0EAAAAYAuaPQUjheuJjMZRBzczMforckUEzMzOREkOVQXE9CokbdZVBwvUodmNNmEG4HoUQDK6SQRWuR7zJ+ZRBMzMzxhfJmEGamZm4WzOVQQ==",
          "dtype": "f8"
         }
        },
        {
         "legendgroup": "Argentina",
         "line": {
          "color": "#F79B9B",
          "dash": "solid",
          "width": 3
         },
         "mode": "lines",
         "name": "Argentina",
         "showlegend": true,
         "type": "scatter",
         "visible": false,
         "x": {
          "bdata": "wQfCB8MHxAfFB8YHxwfIB8kHygfLB8wHzQfOB88H0AfRB9IH0wfUB9UH1gfXB9gH2QfaB9sH3AfdB94H3wfgB+EH4gfjB+QH5QfmBw==",
          "dtype": "i2"
         },
         "y": {
          "bdata": "AAAAAAAA+H9HcyDIv/PVPxJ76gFYj9I/cogFGA340T8lOuzN0z7NP3P30FMORdQ/LVhJnPJN1T+Xuh6PeO7ZPyws6GUu0dU/Tx2x6FnL0z8VvX2AIsjbP3mGgPoSFtU/JhZt7ZvZ4z+FXxLMoTfmPwAAAAAAAPh/qUgpQ4Gl5D8TBTW9gsrjPyMwdyVI1eA/yoiXQis74D/DmwGCiPXgP3tBjmIhC+Y/T5RZdinq4T9J4Tn+qiDlP0FLuuBCv+Q/dvTuzcqB2D+sOdft7+fhP3idQW55OOQ/UJUvgruz5z9yA1ZJJRLiP7rfaGS7fdw/IA707lx94D9/nty98pvqP9QtkfPi1+s/eJjQ8hoH6j8y3nNYfS3xPxlJ6pfYUPE/EsfqXZ+38D/i84GhTsXxPw==",
          "dtype": "f8"
         }
        },
        {
         "legendgroup": "Brazil",
         "line": {
          "color": "#F7CB9B",
          "dash": "solid",
          "width": 3
         },
         "mode": "lines",
         "name": "Brazil",
         "showlegend": true,
         "type": "scatter",
         "visible": false,
         "x": {
          "bdata": "wQfCB8MHxAfFB8YHxwfIB8kHygfLB8wHzQfOB88H0AfRB9IH0wfUB9UH1gfXB9gH2QfaB9sH3AfdB94H3wfgB+EH4gfjB+QH5QfmBw==",
          "dtype": "i2"
         },
         "y": {
          "bdata": "AAAAAAAA+H93HdkaFhtkPyS/weXEKmE/eSqb8VvYYj8LDg+g3yNiP4IagOv1yGI/QTlGNqCTZj/bVUCcEVVrP4xXq77y/3A/Kx8xWSGAbT9dv7pIxIFoPwBlsARBLnk/4td3XhbUdD829PzSYY9zPxxHCde4VHk/JvYixNSkez8o5apMcOOkP1bzFAktJpw/dgTTuTJOoT9MvTqNnp6qP2ERx1Eubpo/Hu1ac4eapT8f76oSDxS0P1hrN7yYcK4/0eOJquOnsD/w0fpXAKq1P/9I5diB8rU/BwFQh36UwT/bzKITytfEP5SUj3sATsA/QiKV4hSqxj8ddpydJljBP53BexjbzcU/uvN3aobiwT+B3X8gMvfNPz70H9C368g/fGYBVIHGwD9HhdEv3/jPPw==",
          "dtype": "f8"
         }
        },
        {
         "legendgroup": "India",
         "line": {
          "color": "#A1F79B",
          "dash": "solid",
          "width": 3
         },
         "mode": "lines",
         "name": "India",
         "showlegend": true,
         "type": "scatter",
         "visible": false,
         "x": {
          "bdata": "wQfCB8MHxAfFB8YHxwfIB8kHygfLB8wHzQfOB88H0AfRB9IH0wfUB9UH1gfXB9gH2QfaB9sH3AfdB94H3wfgB+EH4gfjB+QH5QfmBw==",
          "dtype": "i2"
         },
         "y": {
          "bdata": "AAAAAAAA+H9hpscCnuFEP6YFsQIjg0o/OJVBeVmJPz9O6hIuVUVCPwIJQleccUo/NpWYU082WT8scabXYFRHP6gt0qXkklI/NsNCr2ejUj+iO81l8rV3PxjM0uHfNW4/gvGwcEDLZT+AOaP9dxF0PwrNNbQCuWA/kC2ZCQ7kZD//LgDLSXNzP+k8PJ+xlYA/pLVQN1lQfj/J/G2SVvV8P/o/2qrVfnM/nOzpNxV7cz+ovrnzfkWAP9pxAsJLe3Y/WoY6N3MecT+t4yp9RVpxPxv38wnT9YA/xT88Si3Njj8DWRGogd6RP6xNUSQ+Qo0/hdNzHH7Pgj8HWw91LZOAP/bUrbzqlII/E4RfEiYigj9QbqnPnOV/Pw8aYTP3q4g/JJbyMGkclD95v4SCnTaVPw==",
          "dtype": "f8"
         }
        },
        {
         "legendgroup": "Thailand",
         "line": {
          "color": "#6CBEF5",
          "dash": "solid",
          "width": 3
         },
         "mode": "lines",
         "name": "Thailand",
         "showlegend": true,
         "type": "scatter",
         "visible": false,
         "x": {
          "bdata": "wQfCB8MHxAfFB8YHxwfIB8kHygfLB8wHzQfOB88H0AfRB9IH0wfUB9UH1gfXB9gH2QfaB9sH3AfdB94H3wfgB+EH4gfjB+QH5QfmBw==",
          "dtype": "i2"
         },
         "y": {
          "bdata": "AAAAAAAA+H9iScDc2X3CP9eDqgbMr7s/f6bRdgd7vD+1X2mBaALBP94Rgwfei7Y/bEVtpFfXtj9UQtA7NZq0P7LJk1llArU/dl/NDOgEtD9CB4YdrAC5Pw8ike2hELU/3z6NOfDEtD/87PKkPF+5P45eH4TsA7k/vkBSYrOmtj+CkpGJkju9P4ykN+4UFro/8p9WvsrWuT/6kBmQptXCP4KiXPrL+Lc/YlH7ZfuUuD8899flciy+P61a6/ie6sE/+xcMF0s/vj+6ZrNzioK+P79yDAZgF8I/kt7C4Mpttj+dG9Q6W464PxBV8fi4Q8M/MbUXoANVwD+P+3/DiuTAP4mZ7Io0tsM/VtlJ21HDwj8BugdLhzG6P2lC5T9AarM/S2LXgEw8tT8GsovBKTa6Pw==",
          "dtype": "f8"
         }
        },
        {
         "legendgroup": "United States of America",
         "line": {
          "color": "#F1A1F7",
          "dash": "solid",
          "width": 3
         },
         "mode": "lines",
         "name": "United States of America",
         "showlegend": true,
         "type": "scatter",
         "visible": false,
         "x": {
          "bdata": "wQfCB8MHxAfFB8YHxwfIB8kHygfLB8wHzQfOB88H0AfRB9IH0wfUB9UH1gfXB9gH2QfaB9sH3AfdB94H3wfgB+EH4gfjB+QH5QfmBw==",
          "dtype": "i2"
         },
         "y": {
          "bdata": "AAAAAAAA+H+xLPgtcP3LP+m7/WNnHNM/i8qO73i41j9X1WJW7OHXP7DKph+vatQ/nHPcX6Mv0z+J1cEBzFfSPxHDu6Bb+NI/4rNkzES20D90mdPj+b7WP8ycA4EUYNQ/ZV88XXQN0T+6z/GJcgvRP8RqceMgaNM/l/HIdVN80j+YdAW+89/RP4Lv/GqDV9E/H5TvvCR80D/GF1OQtrbSP04Dl8i1F9E/GY1Df7PL0j/dCt+ZnmrUP4FBfpIGd9M/bDP8Z4A40D/ALBtkK9TRPzKPOuaw1NE/uXUAoJLvyj+Xcigkxr/KP18+UK2WxtA/4b1lb1ZnzT9fsJ97p1bRP+lEiPWpVtE/Y2bDcVt40z+e25czaLDNP9hUwX6TltA/E31c0yyP0z//PcxovanQPw==",
          "dtype": "f8"
         }
        },
        {
         "legendgroup": "Argentina",
         "line": {
          "color": "#F79B9B",
          "dash": "solid",
          "width": 3
         },
         "mode": "lines",
         "name": "Argentina",
         "showlegend": true,
         "type": "scatter",
         "visible": false,
         "x": {
          "bdata": "wQfCB8MHxAfFB8YHxwfIB8kHygfLB8wHzQfOB88H0AfRB9IH0wfUB9UH1gfXB9gH2QfaB9sH3AfdB94H3wfgB+EH4gfjB+QH5QfmBw==",
          "dtype": "i2"
         },
         "y": {
          "bdata": "AAAAAAAA+H9jG9681h2EQHKAm2hEwoZAF0JWzWulh0CFnAjIC8+MQClVYdvbjIRAr5NOFSUOg0C4rTUL6Sx/QJlyCcEJ+oFAtd5te/iyg0BJM/VXAm17QMYORmbePYFA7pmTS4jdcUB6p3ZzeGhuQAAAAAAAAPh/cWYgrxMtcEDMp7+xRLdwQOzF/78ehnRABg4xT4uRdkD1YY9KCM11QM5YnhrJrHBAVfPF49zBdEB45RfNOo9xQNpcNYN7ZHFAr+DJQa+ce0B+dkgDx/lwQIU1JC1mTG1AUynbT0meaUAPslfjOvxwQKuJYQHdkHVAm9VzxpRFckD/vRe1vtlmQMXVVE2we2ZAsfjAytTNZ0Dy5bOdmv5hQJaV15/SmmFA4f+qmpvRYUA2CP/XW+9gQA==",
          "dtype": "f8"
         }
        },
        {
         "legendgroup": "Brazil",
         "line": {
          "color": "#F7CB9B",
          "dash": "solid",
          "width": 3
         },
         "mode": "lines",
         "name": "Brazil",
         "showlegend": true,
         "type": "scatter",
         "visible": false,
         "x": {
          "bdata": "wQfCB8MHxAfFB8YHxwfIB8kHygfLB8wHzQfOB88H0AfRB9IH0wfUB9UH1gfXB9gH2QfaB9sH3AfdB94H3wfgB+EH4gfjB+QH5QfmBw==",
          "dtype": "i2"
         },
         "y": {
          "bdata": "AAAAAAAA+H+Cn5LyxxPpQBKuperLke1AKnVETacj60BRyo+SoHvsQOSpcm+nbOtAj5qBC6ox50Bo5LzjISLjQK9rSB3FUd5AW3rI2QuK4UC/HMXB7i3lQIjKp6jxh9NAfPHOnbi110DHbSjV6yHZQIdcFhDLWtNAvoZv4nYH0kCL5VyQ8l2oQNdbu32otLJAH8gSxsCkr0A3gLCliEOlQCxmbk9serVAVc8WOgvQqUCwwzhxXLyaQFeUQ12SsaFAW6CJZOpCoEDSitvgdEqZQImem+aeJplA3UVTUKzcjkDAx4YtSOOJQHXvt23leJBAbgjIXtrFh0CpRbWkBCePQCqRBBS6N4hALUrDZ8QpjUDJOf9w9WSBQPt1f/OGEIVAjt3l1sYIkECFeS4ICneBQA==",
          "dtype": "f8"
         }
        },
        {
         "legendgroup": "India",
         "line": {
          "color": "#A1F79B",
          "dash": "solid",
          "width": 3
         },
         "mode": "lines",
         "name": "India",
         "showlegend": true,
         "type": "scatter",
         "visible": false,
         "x": {
          "bdata": "wQfCB8MHxAfFB8YHxwfIB8kHygfLB8wHzQfOB88H0AfRB9IH0wfUB9UH1gfXB9gH2QfaB9sH3AfdB94H3wfgB+EH4gfjB+QH5QfmBw==",
          "dtype": "i2"
         },
         "y": {
          "bdata": "AAAAAAAA+H9cdITEaofsQNn/gy/83uVAi6CpqLRY8kDh0wSYOFDvQDEh67qLZuVAM1mIdL4t1kAMxU4GHLPnQMhtIxgWV91AL8DUY8TR3EBwtKLN7E22QMOxi5QAR8FAIlOB+IWIx0A8BqYRODS5QNGRL2TUvc1At8PiJIJTx0Aspdh6crK4QLSc3gBEKKxAsxalramMrkBqDp5OPNivQCpigUeLxrdA1f6w16zHt0BP3awWjqqsQHFfw3zdj7RApCNLooNVukBdbwb8Uri5QKZgWIDdD6pA1HsIDy80nEATIn4cYRCYQLojOdJFCZ1AwlsQjIlzpkDvPL4wcWmpQPR0ulFJiaZAApZWUsYDp0DWXFfUoQGqQF9fGvEM56BAfHywgzaLlEC536jIKWaTQA==",
          "dtype": "f8"
         }
        },
        {
         "legendgroup": "Thailand",
         "line": {
          "color": "#6CBEF5",
          "dash": "solid",
          "width": 3
         },
         "mode": "lines",
         "name": "Thailand",
         "showlegend": true,
         "type": "scatter",
         "visible": false,
         "x": {
          "bdata": "wQfCB8MHxAfFB8YHxwfIB8kHygfLB8wHzQfOB88H0AfRB9IH0wfUB9UH1gfXB9gH2QfaB9sH3AfdB94H3wfgB+EH4gfjB+QH5QfmBw==",
          "dtype": "i2"
         },
         "y": {
          "bdata": "AAAAAAAA+H9Zw8P4GaB3QEBaft2Qr35ASTsdIE13fkAHAnSOf/x4QELNCAQNZoFAGloRXB2ogUAE2ZwQ256DQNOjiObmAINA7fJ80JW3g0AIXOWpNLx9QIR878k204BAFkd8+yfggEBEVGzGOU15QBkGGKNaM3lA8CRLv0P/ekDNYiWHC+t0QJa75Zmmy3ZAtxVGevj1d0DaAxT6D1ZwQAdKKE/jN3pAh9A535WseUAgCi2AnMx1QJSO8sQ9S3JAx5Fjrrf/dUD1mE7zDXB2QFmGgiGFb3JACIdyudgQfUBf2J5CBXR5QJ0Lv4jFpW1AkKiUa1Y7cEBDTuzJbc9wQGyBCZw4sWxAPuQ+IEnmbUA5Z+Wt1BJ0QMk9ysrBGH1AXfjJs6PKekCVSZINRQN2QA==",
          "dtype": "f8"
         }
        },
        {
         "legendgroup": "United States of America",
         "line": {
          "color": "#F1A1F7",
          "dash": "solid",
          "width": 3
         },
         "mode": "lines",
         "name": "United States of America",
         "showlegend": true,
         "type": "scatter",
         "visible": false,
         "x": {
          "bdata": "wQfCB8MHxAfFB8YHxwfIB8kHygfLB8wHzQfOB88H0AfRB9IH0wfUB9UH1gfXB9gH2QfaB9sH3AfdB94H3wfgB+EH4gfjB+QH5QfmBw==",
          "dtype": "i2"
         },
         "y": {
          "bdata": "AAAAAAAA+H9WtfHxyLVzQNuolTFiu2tADhpAwp/qZkAuJ6CkICdlQM/DJSmiT2hAIawczMubaUC2yVNoOsNqQApn7iaFsmlAmHL0v51ubUC1/RMIh4ZlQEx0uTIExmdATL286mwBbEBhxGLNC21rQOwpLAxvsGdA9k0i4ZZjaEDgHe8YSt9oQHOb2V6ASWlAzBmIcOZEakAOGV1QidRmQPWJveGR5WhA9Hs3cgSgZkBTVusjEaxkQKxU2tR7pWVAB51NwCRXaUD0XUPdEtBmQCkOlb+sRmZATT+cAq/hbEDVZOu9KHtsQBtFC/VUdWZAML9smhR7aUDTdvx9zg5mQC7NoMkxDGZAHEJmV9+7Y0DpHmpFfcFpQPzh7eiu2GZAaqEsF2IyY0AexWh/ZA9mQA==",
          "dtype": "f8"
         }
        }
       ],
       "layout": {
        "height": 600,
        "legend": {
         "title": {
          "text": "Land"
         },
         "x": 1.03,
         "xanchor": "left",
         "y": 0.8,
         "yanchor": "top"
        },
        "margin": {
         "b": 60,
         "l": 80,
         "r": 160,
         "t": 80
        },
        "template": {
         "data": {
          "bar": [
           {
            "error_x": {
             "color": "#2a3f5f"
            },
            "error_y": {
             "color": "#2a3f5f"
            },
            "marker": {
             "line": {
              "color": "#E5ECF6",
              "width": 0.5
             },
             "pattern": {
              "fillmode": "overlay",
              "size": 10,
              "solidity": 0.2
             }
            },
            "type": "bar"
           }
          ],
          "barpolar": [
           {
            "marker": {
             "line": {
              "color": "#E5ECF6",
              "width": 0.5
             },
             "pattern": {
              "fillmode": "overlay",
              "size": 10,
              "solidity": 0.2
             }
            },
            "type": "barpolar"
           }
          ],
          "carpet": [
           {
            "aaxis": {
             "endlinecolor": "#2a3f5f",
             "gridcolor": "white",
             "linecolor": "white",
             "minorgridcolor": "white",
             "startlinecolor": "#2a3f5f"
            },
            "baxis": {
             "endlinecolor": "#2a3f5f",
             "gridcolor": "white",
             "linecolor": "white",
             "minorgridcolor": "white",
             "startlinecolor": "#2a3f5f"
            },
            "type": "carpet"
           }
          ],
          "choropleth": [
           {
            "colorbar": {
             "outlinewidth": 0,
             "ticks": ""
            },
            "type": "choropleth"
           }
          ],
          "contour": [
           {
            "colorbar": {
             "outlinewidth": 0,
             "ticks": ""
            },
            "colorscale": [
             [
              0,
              "#0d0887"
             ],
             [
              0.1111111111111111,
              "#46039f"
             ],
             [
              0.2222222222222222,
              "#7201a8"
             ],
             [
              0.3333333333333333,
              "#9c179e"
             ],
             [
              0.4444444444444444,
              "#bd3786"
             ],
             [
              0.5555555555555556,
              "#d8576b"
             ],
             [
              0.6666666666666666,
              "#ed7953"
             ],
             [
              0.7777777777777778,
              "#fb9f3a"
             ],
             [
              0.8888888888888888,
              "#fdca26"
             ],
             [
              1,
              "#f0f921"
             ]
            ],
            "type": "contour"
           }
          ],
          "contourcarpet": [
           {
            "colorbar": {
             "outlinewidth": 0,
             "ticks": ""
            },
            "type": "contourcarpet"
           }
          ],
          "heatmap": [
           {
            "colorbar": {
             "outlinewidth": 0,
             "ticks": ""
            },
            "colorscale": [
             [
              0,
              "#0d0887"
             ],
             [
              0.1111111111111111,
              "#46039f"
             ],
             [
              0.2222222222222222,
              "#7201a8"
             ],
             [
              0.3333333333333333,
              "#9c179e"
             ],
             [
              0.4444444444444444,
              "#bd3786"
             ],
             [
              0.5555555555555556,
              "#d8576b"
             ],
             [
              0.6666666666666666,
              "#ed7953"
             ],
             [
              0.7777777777777778,
              "#fb9f3a"
             ],
             [
              0.8888888888888888,
              "#fdca26"
             ],
             [
              1,
              "#f0f921"
             ]
            ],
            "type": "heatmap"
           }
          ],
          "histogram": [
           {
            "marker": {
             "pattern": {
              "fillmode": "overlay",
              "size": 10,
              "solidity": 0.2
             }
            },
            "type": "histogram"
           }
          ],
          "histogram2d": [
           {
            "colorbar": {
             "outlinewidth": 0,
             "ticks": ""
            },
            "colorscale": [
             [
              0,
              "#0d0887"
             ],
             [
              0.1111111111111111,
              "#46039f"
             ],
             [
              0.2222222222222222,
              "#7201a8"
             ],
             [
              0.3333333333333333,
              "#9c179e"
             ],
             [
              0.4444444444444444,
              "#bd3786"
             ],
             [
              0.5555555555555556,
              "#d8576b"
             ],
             [
              0.6666666666666666,
              "#ed7953"
             ],
             [
              0.7777777777777778,
              "#fb9f3a"
             ],
             [
              0.8888888888888888,
              "#fdca26"
             ],
             [
              1,
              "#f0f921"
             ]
            ],
            "type": "histogram2d"
           }
          ],
          "histogram2dcontour": [
           {
            "colorbar": {
             "outlinewidth": 0,
             "ticks": ""
            },
            "colorscale": [
             [
              0,
              "#0d0887"
             ],
             [
              0.1111111111111111,
              "#46039f"
             ],
             [
              0.2222222222222222,
              "#7201a8"
             ],
             [
              0.3333333333333333,
              "#9c179e"
             ],
             [
              0.4444444444444444,
              "#bd3786"
             ],
             [
              0.5555555555555556,
              "#d8576b"
             ],
             [
              0.6666666666666666,
              "#ed7953"
             ],
             [
              0.7777777777777778,
              "#fb9f3a"
             ],
             [
              0.8888888888888888,
              "#fdca26"
             ],
             [
              1,
              "#f0f921"
             ]
            ],
            "type": "histogram2dcontour"
           }
          ],
          "mesh3d": [
           {
            "colorbar": {
             "outlinewidth": 0,
             "ticks": ""
            },
            "type": "mesh3d"
           }
          ],
          "parcoords": [
           {
            "line": {
             "colorbar": {
              "outlinewidth": 0,
              "ticks": ""
             }
            },
            "type": "parcoords"
           }
          ],
          "pie": [
           {
            "automargin": true,
            "type": "pie"
           }
          ],
          "scatter": [
           {
            "fillpattern": {
             "fillmode": "overlay",
             "size": 10,
             "solidity": 0.2
            },
            "type": "scatter"
           }
          ],
          "scatter3d": [
           {
            "line": {
             "colorbar": {
              "outlinewidth": 0,
              "ticks": ""
             }
            },
            "marker": {
             "colorbar": {
              "outlinewidth": 0,
              "ticks": ""
             }
            },
            "type": "scatter3d"
           }
          ],
          "scattercarpet": [
           {
            "marker": {
             "colorbar": {
              "outlinewidth": 0,
              "ticks": ""
             }
            },
            "type": "scattercarpet"
           }
          ],
          "scattergeo": [
           {
            "marker": {
             "colorbar": {
              "outlinewidth": 0,
              "ticks": ""
             }
            },
            "type": "scattergeo"
           }
          ],
          "scattergl": [
           {
            "marker": {
             "colorbar": {
              "outlinewidth": 0,
              "ticks": ""
             }
            },
            "type": "scattergl"
           }
          ],
          "scattermap": [
           {
            "marker": {
             "colorbar": {
              "outlinewidth": 0,
              "ticks": ""
             }
            },
            "type": "scattermap"
           }
          ],
          "scattermapbox": [
           {
            "marker": {
             "colorbar": {
              "outlinewidth": 0,
              "ticks": ""
             }
            },
            "type": "scattermapbox"
           }
          ],
          "scatterpolar": [
           {
            "marker": {
             "colorbar": {
              "outlinewidth": 0,
              "ticks": ""
             }
            },
            "type": "scatterpolar"
           }
          ],
          "scatterpolargl": [
           {
            "marker": {
             "colorbar": {
              "outlinewidth": 0,
              "ticks": ""
             }
            },
            "type": "scatterpolargl"
           }
          ],
          "scatterternary": [
           {
            "marker": {
             "colorbar": {
              "outlinewidth": 0,
              "ticks": ""
             }
            },
            "type": "scatterternary"
           }
          ],
          "surface": [
           {
            "colorbar": {
             "outlinewidth": 0,
             "ticks": ""
            },
            "colorscale": [
             [
              0,
              "#0d0887"
             ],
             [
              0.1111111111111111,
              "#46039f"
             ],
             [
              0.2222222222222222,
              "#7201a8"
             ],
             [
              0.3333333333333333,
              "#9c179e"
             ],
             [
              0.4444444444444444,
              "#bd3786"
             ],
             [
              0.5555555555555556,
              "#d8576b"
             ],
             [
              0.6666666666666666,
              "#ed7953"
             ],
             [
              0.7777777777777778,
              "#fb9f3a"
             ],
             [
              0.8888888888888888,
              "#fdca26"
             ],
             [
              1,
              "#f0f921"
             ]
            ],
            "type": "surface"
           }
          ],
          "table": [
           {
            "cells": {
             "fill": {
              "color": "#EBF0F8"
             },
             "line": {
              "color": "white"
             }
            },
            "header": {
             "fill": {
              "color": "#C8D4E3"
             },
             "line": {
              "color": "white"
             }
            },
            "type": "table"
           }
          ]
         },
         "layout": {
          "annotationdefaults": {
           "arrowcolor": "#2a3f5f",
           "arrowhead": 0,
           "arrowwidth": 1
          },
          "autotypenumbers": "strict",
          "coloraxis": {
           "colorbar": {
            "outlinewidth": 0,
            "ticks": ""
           }
          },
          "colorscale": {
           "diverging": [
            [
             0,
             "#8e0152"
            ],
            [
             0.1,
             "#c51b7d"
            ],
            [
             0.2,
             "#de77ae"
            ],
            [
             0.3,
             "#f1b6da"
            ],
            [
             0.4,
             "#fde0ef"
            ],
            [
             0.5,
             "#f7f7f7"
            ],
            [
             0.6,
             "#e6f5d0"
            ],
            [
             0.7,
             "#b8e186"
            ],
            [
             0.8,
             "#7fbc41"
            ],
            [
             0.9,
             "#4d9221"
            ],
            [
             1,
             "#276419"
            ]
           ],
           "sequential": [
            [
             0,
             "#0d0887"
            ],
            [
             0.1111111111111111,
             "#46039f"
            ],
            [
             0.2222222222222222,
             "#7201a8"
            ],
            [
             0.3333333333333333,
             "#9c179e"
            ],
            [
             0.4444444444444444,
             "#bd3786"
            ],
            [
             0.5555555555555556,
             "#d8576b"
            ],
            [
             0.6666666666666666,
             "#ed7953"
            ],
            [
             0.7777777777777778,
             "#fb9f3a"
            ],
            [
             0.8888888888888888,
             "#fdca26"
            ],
            [
             1,
             "#f0f921"
            ]
           ],
           "sequentialminus": [
            [
             0,
             "#0d0887"
            ],
            [
             0.1111111111111111,
             "#46039f"
            ],
            [
             0.2222222222222222,
             "#7201a8"
            ],
            [
             0.3333333333333333,
             "#9c179e"
            ],
            [
             0.4444444444444444,
             "#bd3786"
            ],
            [
             0.5555555555555556,
             "#d8576b"
            ],
            [
             0.6666666666666666,
             "#ed7953"
            ],
            [
             0.7777777777777778,
             "#fb9f3a"
            ],
            [
             0.8888888888888888,
             "#fdca26"
            ],
            [
             1,
             "#f0f921"
            ]
           ]
          },
          "colorway": [
           "#636efa",
           "#EF553B",
           "#00cc96",
           "#ab63fa",
           "#FFA15A",
           "#19d3f3",
           "#FF6692",
           "#B6E880",
           "#FF97FF",
           "#FECB52"
          ],
          "font": {
           "color": "#2a3f5f"
          },
          "geo": {
           "bgcolor": "white",
           "lakecolor": "white",
           "landcolor": "#E5ECF6",
           "showlakes": true,
           "showland": true,
           "subunitcolor": "white"
          },
          "hoverlabel": {
           "align": "left"
          },
          "hovermode": "closest",
          "mapbox": {
           "style": "light"
          },
          "paper_bgcolor": "white",
          "plot_bgcolor": "#E5ECF6",
          "polar": {
           "angularaxis": {
            "gridcolor": "white",
            "linecolor": "white",
            "ticks": ""
           },
           "bgcolor": "#E5ECF6",
           "radialaxis": {
            "gridcolor": "white",
            "linecolor": "white",
            "ticks": ""
           }
          },
          "scene": {
           "xaxis": {
            "backgroundcolor": "#E5ECF6",
            "gridcolor": "white",
            "gridwidth": 2,
            "linecolor": "white",
            "showbackground": true,
            "ticks": "",
            "zerolinecolor": "white"
           },
           "yaxis": {
            "backgroundcolor": "#E5ECF6",
            "gridcolor": "white",
            "gridwidth": 2,
            "linecolor": "white",
            "showbackground": true,
            "ticks": "",
            "zerolinecolor": "white"
           },
           "zaxis": {
            "backgroundcolor": "#E5ECF6",
            "gridcolor": "white",
            "gridwidth": 2,
            "linecolor": "white",
            "showbackground": true,
            "ticks": "",
            "zerolinecolor": "white"
           }
          },
          "shapedefaults": {
           "line": {
            "color": "#2a3f5f"
           }
          },
          "ternary": {
           "aaxis": {
            "gridcolor": "white",
            "linecolor": "white",
            "ticks": ""
           },
           "baxis": {
            "gridcolor": "white",
            "linecolor": "white",
            "ticks": ""
           },
           "bgcolor": "#E5ECF6",
           "caxis": {
            "gridcolor": "white",
            "linecolor": "white",
            "ticks": ""
           }
          },
          "title": {
           "x": 0.05
          },
          "xaxis": {
           "automargin": true,
           "gridcolor": "white",
           "linecolor": "white",
           "ticks": "",
           "title": {
            "standoff": 15
           },
           "zerolinecolor": "white",
           "zerolinewidth": 2
          },
          "yaxis": {
           "automargin": true,
           "gridcolor": "white",
           "linecolor": "white",
           "ticks": "",
           "title": {
            "standoff": 15
           },
           "zerolinecolor": "white",
           "zerolinewidth": 2
          }
         }
        },
        "title": {
         "text": "Landbouw­emissies en -export (1985–2020)"
        },
        "updatemenus": [
         {
          "bgcolor": "white",
          "buttons": [
           {
            "args": [
             {
              "visible": [
               true,
               true,
               true,
               true,
               true,
               false,
               false,
               false,
               false,
               false,
               false,
               false,
               false,
               false,
               false,
               false,
               false,
               false,
               false,
               false,
               false,
               false,
               false,
               false,
               false
              ]
             },
             {
              "yaxis": {
               "title": "Totale uitstoot (kiloton CO₂-equ.)"
              }
             }
            ],
            "label": "Totale uitstoot (kiloton CO₂-equ.)",
            "method": "update"
           },
           {
            "args": [
             {
              "visible": [
               false,
               false,
               false,
               false,
               false,
               true,
               true,
               true,
               true,
               true,
               false,
               false,
               false,
               false,
               false,
               false,
               false,
               false,
               false,
               false,
               false,
               false,
               false,
               false,
               false
              ]
             },
             {
              "yaxis": {
               "title": "Uitstoot per inwoner (ton CO₂-equ.)"
              }
             }
            ],
            "label": "Uitstoot per inwoner (ton CO₂-equ.)",
            "method": "update"
           },
           {
            "args": [
             {
              "visible": [
               false,
               false,
               false,
               false,
               false,
               false,
               false,
               false,
               false,
               false,
               true,
               true,
               true,
               true,
               true,
               false,
               false,
               false,
               false,
               false,
               false,
               false,
               false,
               false,
               false
              ]
             },
             {
              "yaxis": {
               "title": "Totaal export­volume (ton)"
              }
             }
            ],
            "label": "Totaal export­volume (ton)",
            "method": "update"
           },
           {
            "args": [
             {
              "visible": [
               false,
               false,
               false,
               false,
               false,
               false,
               false,
               false,
               false,
               false,
               false,
               false,
               false,
               false,
               false,
               true,
               true,
               true,
               true,
               true,
               false,
               false,
               false,
               false,
               false
              ]
             },
             {
              "yaxis": {
               "title": "Export per inwoner (ton)"
              }
             }
            ],
            "label": "Export per inwoner (ton)",
            "method": "update"
           },
           {
            "args": [
             {
              "visible": [
               false,
               false,
               false,
               false,
               false,
               false,
               false,
               false,
               false,
               false,
               false,
               false,
               false,
               false,
               false,
               false,
               false,
               false,
               false,
               false,
               true,
               true,
               true,
               true,
               true
              ]
             },
             {
              "yaxis": {
               "title": "Uitstoot per ton export (kg CO₂-equ.)"
              }
             }
            ],
            "label": "Uitstoot per ton export (kg CO₂-equ.)",
            "method": "update"
           }
          ],
          "direction": "down",
          "font": {
           "size": 11
          },
          "pad": {
           "r": 0,
           "t": 0
          },
          "showactive": true,
          "x": 1.03,
          "xanchor": "left",
          "y": 0.95,
          "yanchor": "top"
         }
        ],
        "width": 900,
        "xaxis": {
         "title": {
          "text": "Jaar"
         }
        },
        "yaxis": {
         "title": {
          "text": "Totale uitstoot (kt CO2-eq)"
         }
        }
       }
      }
     },
     "metadata": {},
     "output_type": "display_data"
    }
   ],
   "source": [
    "import pandas as pd\n",
    "import plotly.graph_objects as go\n",
    "import plotly.io as pio\n",
    "pio.renderers.default = \"vscode\"\n",
    "\n",
    "# ───────────────────────────────────────────────────────────────\n",
    "# 1. DATA INLEZEN\n",
    "# ───────────────────────────────────────────────────────────────\n",
    "emissions_animal = pd.read_csv(\"datasets/FAOSTAT_data_emissions_animal_6-23-2025.csv\")\n",
    "emissions_crops  = pd.read_csv(\"datasets/FAOSTAT_data_emissions_crops_6-23-2025-2.csv\")\n",
    "export_matrix    = pd.read_csv(\"datasets/matrix_export.csv\")\n",
    "population       = pd.read_csv(\"datasets/Population_E_All_Data_(Normalized).csv\")\n",
    "\n",
    "# ───────────────────────────────────────────────────────────────\n",
    "# 2. GEGEVENS OPSCHONEN & SAMENVOEGEN\n",
    "# ───────────────────────────────────────────────────────────────\n",
    "population_clean = (\n",
    "    population[\n",
    "        (population[\"Element\"] == \"Total Population - Both sexes\") &\n",
    "        (population[\"Area\"].isin([\n",
    "            \"Argentina\", \"Brazil\", \"India\", \"Thailand\",\n",
    "            \"Netherlands\", \"United States of America\"\n",
    "        ]))\n",
    "    ][[\"Area\", \"Year\", \"Value\"]]\n",
    "    .rename(columns={\"Value\": \"Population (1000s)\"})\n",
    ")\n",
    "population_clean[\"Year\"] = population_clean[\"Year\"].astype(int)\n",
    "\n",
    "animal = emissions_animal[\n",
    "    emissions_animal[\"Area\"].isin([\n",
    "        \"Argentina\", \"Brazil\", \"India\", \"Thailand\",\n",
    "        \"Netherlands\", \"United States of America\"\n",
    "    ]) &\n",
    "    emissions_animal[\"Element\"].str.contains(\"Emissions\")\n",
    "]\n",
    "\n",
    "crops = emissions_crops[\n",
    "    emissions_crops[\"Area\"].isin([\n",
    "        \"Argentina\", \"Brazil\", \"India\", \"Thailand\",\n",
    "        \"Netherlands\", \"United States of America\"\n",
    "    ]) &\n",
    "    emissions_crops[\"Element\"].str.contains(\"Emissions\")\n",
    "]\n",
    "\n",
    "emissions_all = pd.concat([animal, crops])\n",
    "emissions_all[\"Year\"] = emissions_all[\"Year\"].astype(int)\n",
    "emissions_all = (\n",
    "    emissions_all\n",
    "    .groupby([\"Area\", \"Year\"])[\"Value\"]\n",
    "    .sum()\n",
    "    .reset_index()\n",
    "    .rename(columns={\"Value\": \"Total Emissions (kt CO2eq)\"})\n",
    ")\n",
    "\n",
    "export_volume = (\n",
    "    export_matrix[\n",
    "        (export_matrix[\"Element\"] == \"Export quantity\") &\n",
    "        (export_matrix[\"Reporter Countries\"].isin([\n",
    "            \"Argentina\", \"Brazil\", \"India\", \"Thailand\",\n",
    "            \"Netherlands\", \"United States of America\"\n",
    "        ]))\n",
    "    ][[\"Reporter Countries\", \"Year\", \"Value\"]]\n",
    "    .groupby([\"Reporter Countries\", \"Year\"])\n",
    "    .sum()\n",
    "    .reset_index()\n",
    "    .rename(columns={\n",
    "        \"Reporter Countries\": \"Area\",\n",
    "        \"Value\": \"Total Export Volume (tonnes)\"\n",
    "    })\n",
    ")\n",
    "export_volume[\"Year\"] = export_volume[\"Year\"].astype(int)\n",
    "\n",
    "df = (\n",
    "    emissions_all\n",
    "    .merge(population_clean, on=[\"Area\", \"Year\"], how=\"left\")\n",
    "    .merge(export_volume,  on=[\"Area\", \"Year\"], how=\"left\")\n",
    ")\n",
    "df = df[df[\"Year\"] >= 1985]\n",
    "\n",
    "df[\"Emissions per Capita (tonnes CO2eq)\"] = (\n",
    "    df[\"Total Emissions (kt CO2eq)\"] * 1_000\n",
    ") / (df[\"Population (1000s)\"] * 1_000)\n",
    "df[\"Export per Capita (tonnes)\"] = (\n",
    "    df[\"Total Export Volume (tonnes)\"]\n",
    ") / (df[\"Population (1000s)\"] * 1_000)\n",
    "df[\"Emissions per Export Tonne (kg CO2eq/tonne)\"] = (\n",
    "    df[\"Total Emissions (kt CO2eq)\"] * 1_000_000\n",
    ") / df[\"Total Export Volume (tonnes)\"]\n",
    "\n",
    "metrics = {\n",
    "    \"Total Emissions (kt CO2eq)\":               \"Total Emissions (kt CO2eq)\",\n",
    "    \"Emissions per Capita (tonnes CO2eq)\":      \"Emissions per Capita (tonnes CO2eq)\",\n",
    "    \"Total Export Volume (tonnes)\":             \"Total Export Volume (tonnes)\",\n",
    "    \"Export per Capita (tonnes)\":               \"Export per Capita (tonnes)\",\n",
    "    \"Emissions per Export Tonne (kg CO2eq/tonne)\":\n",
    "        \"Emissions per Export Tonne (kg CO2eq/tonne)\"\n",
    "}\n",
    "\n",
    "# ───────────────────────────────────────────────────────────────\n",
    "# 3. STIJLDEFINITIE – handmatig per land\n",
    "# ───────────────────────────────────────────────────────────────\n",
    "line_styles = {\n",
    "    \"Argentina\": {\n",
    "        \"color\": \"#F79B9B\",\n",
    "        \"dash\":  \"solid\",\n",
    "        \"width\": 3\n",
    "    },\n",
    "    \"Brazil\": {\n",
    "        \"color\": \"#F7CB9B\",\n",
    "        \"dash\":  \"solid\",\n",
    "        \"width\": 3\n",
    "    },\n",
    "    \"India\": {\n",
    "        \"color\": \"#A1F79B\",\n",
    "        \"dash\":  \"solid\",\n",
    "        \"width\": 3\n",
    "    },\n",
    "    \"Thailand\": {\n",
    "        \"color\": \"#6CBEF5\",\n",
    "        \"dash\":  \"solid\",\n",
    "        \"width\": 3\n",
    "    },\n",
    "    \"Netherlands\": {\n",
    "        \"color\": \"#A39BF7\",\n",
    "        \"dash\":  \"solid\",\n",
    "        \"width\": 3\n",
    "    },\n",
    "    \"United States of America\": {\n",
    "        \"color\": \"#F1A1F7\",\n",
    "        \"dash\":  \"solid\",\n",
    "        \"width\": 3\n",
    "    }\n",
    "}\n",
    "\n",
    "# ───────────────────────────────────────────────────────────────\n",
    "# 4. FIGUUR MAKEN – met eigen stijlen\n",
    "# ───────────────────────────────────────────────────────────────\n",
    "fig = go.Figure()\n",
    "\n",
    "for metric_idx, (metric_name, col) in enumerate(metrics.items()):\n",
    "    for country in df[\"Area\"].unique():\n",
    "        subset  = df[df[\"Area\"] == country]\n",
    "        visible = (metric_idx == 0)\n",
    "\n",
    "        style   = line_styles.get(country, {})\n",
    "        fig.add_trace(\n",
    "            go.Scatter(\n",
    "                x=subset[\"Year\"],\n",
    "                y=subset[col],\n",
    "                mode=\"lines\",\n",
    "                name=country,\n",
    "                visible=visible,\n",
    "                legendgroup=country,\n",
    "                showlegend=True,\n",
    "                line=dict(\n",
    "                    color=style.get(\"color\", None),\n",
    "                    dash=style.get(\"dash\",  \"solid\"),\n",
    "                    width=style.get(\"width\", 2)\n",
    "                )\n",
    "            )\n",
    "        )\n",
    "\n",
    "n_countries      = len(df[\"Area\"].unique())\n",
    "dropdown_buttons = []\n",
    "\n",
    "for i, (metric_name, _) in enumerate(metrics.items()):\n",
    "    visibility = [False] * len(metrics) * n_countries\n",
    "    for j in range(n_countries):\n",
    "        visibility[i * n_countries + j] = True\n",
    "    dropdown_buttons.append(\n",
    "        dict(\n",
    "            label=metric_name,\n",
    "            method=\"update\",\n",
    "            args=[\n",
    "                {\"visible\": visibility},\n",
    "                {\"yaxis\": {\"title\": metric_name}}\n",
    "            ]\n",
    "        )\n",
    "    )\n",
    "\n",
    "fig.update_layout(\n",
    "    updatemenus=[{\n",
    "        \"buttons\":       dropdown_buttons,\n",
    "        \"direction\":     \"down\",\n",
    "        \"showactive\":    True,\n",
    "        \"x\":             1.03,\n",
    "        \"xanchor\":       \"left\",\n",
    "        \"y\":             0.95,\n",
    "        \"yanchor\":       \"top\",\n",
    "        \"pad\":           {\"r\": 0, \"t\": 0},\n",
    "        \"font\":          {\"size\": 11},\n",
    "        \"bgcolor\":       \"white\"\n",
    "    }],\n",
    "    title=\"Agricultural Emissions & Exports (1985–2020)\",\n",
    "    xaxis_title=\"Year\",\n",
    "    yaxis_title=\"Total Emissions (kt CO2eq)\",\n",
    "    legend_title=\"Country\",\n",
    "    legend=dict(\n",
    "        x=1.03,\n",
    "        xanchor=\"left\",\n",
    "        y=0.8,\n",
    "        yanchor=\"top\"\n",
    "    ),\n",
    "    margin=dict(r=160, l=80, t=80, b=60),\n",
    "    height=600,\n",
    "    width=900\n",
    ")\n",
    "\n",
    "# ───────────────────────────────────────────────────────────────\n",
    "# 5. INTERFACE NAAR HET NEDERLANDS\n",
    "# ───────────────────────────────────────────────────────────────\n",
    "\n",
    "vertaling = {\n",
    "    \"Total Emissions (kt CO2eq)\":               \"Totale uitstoot (kiloton CO₂-equ.)\",\n",
    "    \"Emissions per Capita (tonnes CO2eq)\":      \"Uitstoot per inwoner (ton CO₂-equ.)\",\n",
    "    \"Total Export Volume (tonnes)\":             \"Totaal export­volume (ton)\",\n",
    "    \"Export per Capita (tonnes)\":               \"Export per inwoner (ton)\",\n",
    "    \"Emissions per Export Tonne (kg CO2eq/tonne)\":\n",
    "        \"Uitstoot per ton export (kg CO₂-equ.)\"\n",
    "}\n",
    "\n",
    "for btn in fig.layout.updatemenus[0].buttons:\n",
    "    eng = btn.label\n",
    "    if eng in vertaling:\n",
    "        dut = vertaling[eng]\n",
    "        btn.label                     = dut\n",
    "        btn.args[1][\"yaxis\"][\"title\"] = dut\n",
    "\n",
    "fig.update_layout(\n",
    "    title=\"Landbouw­emissies en -export (1985–2020)\",\n",
    "    xaxis_title=\"Jaar\",\n",
    "    yaxis_title=\"Totale uitstoot (kt CO2-eq)\",\n",
    "    legend_title=\"Land\"\n",
    ")\n",
    "\n",
    "# ───────────────────────────────────────────────────────────────\n",
    "# 6. VISUALISATIE TONEN\n",
    "# ───────────────────────────────────────────────────────────────\n",
    "fig.show()\n"
   ]
  },
  {
   "cell_type": "markdown",
   "id": "494a6368",
   "metadata": {},
   "source": [
    "<span style=\"font-size:60%;\">\n",
    "kt = kilotonne&nbsp;(1 000 t)<br>\n",
    "t = tonne&nbsp;(1 000 kg)<br>\n",
    "CO₂-eq = CO₂-equivalent – alle broeikasgassen omgerekend naar de hoeveelheid CO₂ met hetzelfde opwarmend effect (GWP-100)<br>\n",
    "Uitstoot per inwoner = totale uitstoot ÷ bevolking<br>\n",
    "Uitstoot per ton export = totale uitstoot ÷ exportmassa\n",
    "</span>\n",
    "\n",
    "<span style=\"font-size: 60%;\"> * Voor Argentinië ontbreken enkele gegevens voor 1999; daardoor verschijnt er een onderbreking in de lijn.</span>\n"
   ]
  },
  {
   "cell_type": "markdown",
   "id": "a608afd6",
   "metadata": {},
   "source": [
    "##### Waarom deze landen?\n",
    "We selecteerden Argentinië, Brazilië, Verenigde Staten, Thailand en India omdat zij samen alle logistieke archetypen laten zien die onze export-hypothese vereist. Argentinië en de VS hebben sinds de 19e eeuw directe Atlantische havens en bulkexport; Brazilië bezit kusthavens, maar zijn moderne sojazones liggen ruim duizend kilometer landinwaarts; Thailand is een smalle kuststaat met beperkte landbouwruimte; India heeft lange kusten, maar een moesson­gedreven binnenland­landbouw. Deze combinatie levert grote én kleine bevolkingen, uiteenlopende emissie­drivers (methaan uit vee, ontbossing, efficiënte graanlogistiek) en betrouwbare tijdreeksen sinds 1985. Andere landen zouden slechts variaties op dezelfde profielen toevoegen en het beeld vertroebelen. Met vijf cases tonen we dus alle relevante geografische combinaties — zonder redundantie — en testen we de rol van export in landbouw-CO₂ per inwoner op een compacte, maar volledige manier."
   ]
  },
  {
   "cell_type": "markdown",
   "id": "f1592d8d",
   "metadata": {},
   "source": [
    "##### Analyse\n",
    "Argentinië beschikt met de Río-de-la-Plata-delta over een korte Atlantische vaarroute. Die ligging maakte de Pampas al vroeg tot exportmotor. Vandaag springt Argentinië nog steeds uit met de hoogste export per inwoner én – in dezelfde grafiekset – de hoogste landbouw-CO₂ per inwoner. Open-luchtveeteelt op uitgestrekte graslanden produceert veel methaan, terwijl sojateelt grote oppervlakten beslaat. De historische exportpositie vertaalt zich hier rechtstreeks in een hoge emissiedruk per Argentijn.\n",
    "\n",
    "Brazilië heeft oceaanhavens, maar de moderne soja- en veezones liggen ver landinwaarts in Cerrado en Amazone-overgangsgebieden. Daardoor blijft de export per inwoner bescheiden. Toch benadert de Braziliaanse uitstoot per inwoner de Argentijnse waarde. Geografisch verklaart ontbossing het verschil: de combinatie van savanne en regenwoud vergemakkelijkt het platbranden van nieuwe landbouwgrond, wat veel CO₂ oplevert, los van het exportvolume.\n",
    "\n",
    "Verenigde Staten beschikken over zowel Atlantische en Pacifische havens als een fijnmazig netwerk van binnenwateren. Het absolute exportvolume is veruit het grootste, maar gedeeld door meer dan 330 miljoen inwoners blijft de export per hoofd slechts middelhoog. Bovendien is de emissie-intensiteit per ton laag dankzij zeer productieve Midwest-graanvelden dicht bij goedkope watertransporten. Daardoor daalt de uitstoot per Amerikaan tot ongeveer een derde van de Argentijnse waarde – een duidelijk breekpunt in de veronderstelde relatie.\n",
    "\n",
    "Thailand is een smalle, kustgeoriënteerde staat met natuurlijke diepzee­havens in de Golf van Thailand. Toch blijft de export per inwoner laag: rijst is licht in gewicht en exportvolumes blijven bescheiden. De landbouw-CO₂ per inwoner volgt hetzelfde lage traject. Hier ondersteunt de geografie de hypothese: beperkte landbouwruimte en beperkte uitvoer leveren een lage emissiedruk op.\n",
    "\n",
    "India bezit lange kusten, maar de bulk van de landbouw ligt op het ver landinwaarts gelegen Gangetische vlakkeland en bedient vooral de binnenlandse markt. De export per inwoner is vrijwel nihil en de uitstoot per inwoner het laagst, hoewel India in absolute termen de hoogste landbouwemissie heeft door de enorme bevolking. De logistieke drempel van moesson­wegen en lange koelketens beperkt de export ondanks de kustligging."
   ]
  },
  {
   "cell_type": "markdown",
   "id": "cc0f3b44",
   "metadata": {},
   "source": [
    "Een gunstige havenligging kan – zoals bij Argentinië – tot hoge export per inwoner én hoge CO₂ per inwoner leiden. Maar andere geografische factoren kunnen het patroon neutraliseren of omkeren. Grote bevolkingen en efficiënte binnenwaterlogistiek (VS) ‘verdunnen’ de emissies; interne afstanden tot havens en ontbossingsfronten (Brazilië, India) kunnen juist hoge uitstoot opleveren zonder uitzonderlijke export. De oorspronkelijke stelling is daarom slechts deels houdbaar: exportintensiteit is een belangrijke, maar geen voldoende, geografische verklaring voor verschillen in landbouw-CO₂ per hoofd."
   ]
  },
  {
   "cell_type": "markdown",
   "id": "50110432",
   "metadata": {},
   "source": [
    "### De geografische ligging van een land (en de bijbehorende klimaatzones) beïnvloedt welke gewassen en dieren men produceert — en dat heeft directe impact op de landbouwgerelateerde CO₂-uitstoot per capita.\n",
    "Om zichtbaar te maken hoe klimaat en neerslag de landbouw-CO₂ bepalen, vergelijken we vier uitgesproken klimaatzones: het gematigde binnenland van de Verenigde Staten, het koele zeeklimaat van Nederland, het tropische savanne/moessonklimaat van Brazilië en het milde tropische hoogland van Kenia. In de volgende grafiekset ziet u per land het klimaat­patroon, het daaruit voortvloeiende gewasprofiel en de resulterende uitstoot per hoofd."
   ]
  },
  {
   "cell_type": "code",
   "execution_count": 22,
   "id": "0c9bc8cc",
   "metadata": {},
   "outputs": [
    {
     "data": {
      "application/vnd.plotly.v1+json": {
       "config": {
        "plotlyServerURL": "https://plot.ly"
       },
       "data": [
        {
         "marker": {
          "color": "#6094AA",
          "line": {
           "color": "#000000",
           "width": 2
          }
         },
         "type": "bar",
         "visible": true,
         "x": [
          "Brazilië"
         ],
         "xaxis": "x",
         "y": [
          0.9762867909825765
         ],
         "yaxis": "y"
        },
        {
         "marker": {
          "color": "#65B1C5"
         },
         "r": {
          "bdata": "zczMKipLgUEAAADA5utsQQAAAACwiPhA7FG4Qs0cgUEAAAAAvQlKQQAAAAAQig5BAAAAAADAckAAAAC0V6PFQQAAAACQIk1B",
          "dtype": "f8"
         },
         "subplot": "polar",
         "theta": [
          0,
          40,
          80,
          120,
          160,
          200,
          240,
          280,
          320
         ],
         "type": "barpolar",
         "visible": true,
         "width": [
          32,
          32,
          32,
          32,
          32,
          32,
          32,
          32,
          32
         ]
        },
        {
         "marker": {
          "color": "#83CFE5",
          "line": {
           "color": "#000000",
           "width": 1
          }
         },
         "opacity": 0.7,
         "type": "bar",
         "visible": true,
         "x": [
          "Jan",
          "Feb",
          "Maa",
          "Apr",
          "Mei",
          "Jun",
          "Jul",
          "Aug",
          "Sep",
          "Okt",
          "Nov",
          "Dec"
         ],
         "xaxis": "x2",
         "y": {
          "bdata": "CtejcD0SbkBmZmZmZvZrQGZmZmZmDm5AUrgehesRaECuR+F6FHZhQM3MzMzM/FNAAAAAAABgTkDNzMzMzCxJQGZmZmZmRlJAMzMzMzOTXkCkcD0K1ytlQArXo3A9KmpA",
          "dtype": "f8"
         },
         "yaxis": "y3"
        },
        {
         "line": {
          "color": "#CA4A4A"
         },
         "marker": {
          "color": "#CA4A4A"
         },
         "mode": "lines+markers",
         "type": "scatter",
         "visible": true,
         "x": [
          "Jan",
          "Feb",
          "Maa",
          "Apr",
          "Mei",
          "Jun",
          "Jul",
          "Aug",
          "Sep",
          "Okt",
          "Nov",
          "Dec"
         ],
         "xaxis": "x2",
         "y": {
          "bdata": "mpmZmZlZOUCPwvUoXE85QClcj8L1KDlAFK5H4XrUOEC4HoXrUfg3QI/C9ShcjzdAmpmZmZmZN0A9CtejcL04QOxRuB6FqzlAzczMzMwMOkCuR+F6FK45QBSuR+F6lDlA",
          "dtype": "f8"
         },
         "yaxis": "y2"
        },
        {
         "marker": {
          "color": "#6094AA",
          "line": {
           "color": "#000000",
           "width": 2
          }
         },
         "type": "bar",
         "visible": false,
         "x": [
          "Nederland"
         ],
         "xaxis": "x",
         "y": [
          1.10811972355545
         ],
         "yaxis": "y"
        },
        {
         "marker": {
          "color": "#65B1C5"
         },
         "r": {
          "bdata": "AAAAACBwJUEAAAAAwG82QQAAAAAAistAAAAAwFyUbEEAAAAAAAD4fwAAAAAAAPh/AAAAAAAA+H8AAAAAAAD4fwAAAAD4sURB",
          "dtype": "f8"
         },
         "subplot": "polar",
         "theta": [
          0,
          40,
          80,
          120,
          160,
          200,
          240,
          280,
          320
         ],
         "type": "barpolar",
         "visible": false,
         "width": [
          32,
          32,
          32,
          32,
          32,
          32,
          32,
          32,
          32
         ]
        },
        {
         "marker": {
          "color": "#83CFE5",
          "line": {
           "color": "#000000",
           "width": 1
          }
         },
         "opacity": 0.7,
         "type": "bar",
         "visible": false,
         "x": [
          "Jan",
          "Feb",
          "Maa",
          "Apr",
          "Mei",
          "Jun",
          "Jul",
          "Aug",
          "Sep",
          "Okt",
          "Nov",
          "Dec"
         ],
         "xaxis": "x2",
         "y": {
          "bdata": "9ihcj8JlUUAAAAAAAFBQQLgehetRWExAAAAAAACASkC4HoXrUVhSQHsUrkfhilJAmpmZmZnpVkBSuB6F6yFXQBSuR+F6xFFAZmZmZmbmUkDD9Shcj0JRQFyPwvUoXFNA",
          "dtype": "f8"
         },
         "yaxis": "y3"
        },
        {
         "line": {
          "color": "#CA4A4A"
         },
         "marker": {
          "color": "#CA4A4A"
         },
         "mode": "lines+markers",
         "type": "scatter",
         "visible": false,
         "x": [
          "Jan",
          "Feb",
          "Maa",
          "Apr",
          "Mei",
          "Jun",
          "Jul",
          "Aug",
          "Sep",
          "Okt",
          "Nov",
          "Dec"
         ],
         "xaxis": "x2",
         "y": {
          "bdata": "w/UoXI/CCUBI4XoUrkcPQB+F61G4HhhASOF6FK5HI0DD9Shcj0IqQB+F61G4ni9AcT0K16PwMUAUrkfhetQxQOF6FK5H4S1AhetRuB6FJkBmZmZmZmYcQPYoXI/C9QxA",
          "dtype": "f8"
         },
         "yaxis": "y2"
        },
        {
         "marker": {
          "color": "#6094AA",
          "line": {
           "color": "#000000",
           "width": 2
          }
         },
         "type": "bar",
         "visible": false,
         "x": [
          "Verenigde Staten"
         ],
         "xaxis": "x",
         "y": [
          1.6961509648347843
         ],
         "yaxis": "y"
        },
        {
         "marker": {
          "color": "#65B1C5"
         },
         "r": {
          "bdata": "rkfhjhhCdEEAAABQWSOKQQAAAACAocJAj8L14u59mEEAAAAA9Oc2QQAAAAAAAPh/AAAAAAAA+H8AAACA9P59QcL1KITKOnRB",
          "dtype": "f8"
         },
         "subplot": "polar",
         "theta": [
          0,
          40,
          80,
          120,
          160,
          200,
          240,
          280,
          320
         ],
         "type": "barpolar",
         "visible": false,
         "width": [
          32,
          32,
          32,
          32,
          32,
          32,
          32,
          32,
          32
         ]
        },
        {
         "marker": {
          "color": "#83CFE5",
          "line": {
           "color": "#000000",
           "width": 1
          }
         },
         "opacity": 0.7,
         "type": "bar",
         "visible": false,
         "x": [
          "Jan",
          "Feb",
          "Maa",
          "Apr",
          "Mei",
          "Jun",
          "Jul",
          "Aug",
          "Sep",
          "Okt",
          "Nov",
          "Dec"
         ],
         "xaxis": "x2",
         "y": {
          "bdata": "UrgehevRTkAAAAAAAIBMQAAAAAAAcFBAAAAAAACAUUB7FK5H4dpSQFK4HoXrwVJAmpmZmZlZUUBI4XoUrvdQQK5H4XoUblFASOF6FK7XUECkcD0K1+NNQIXrUbgehVBA",
          "dtype": "f8"
         },
         "yaxis": "y3"
        },
        {
         "line": {
          "color": "#CA4A4A"
         },
         "marker": {
          "color": "#CA4A4A"
         },
         "mode": "lines+markers",
         "type": "scatter",
         "visible": false,
         "x": [
          "Jan",
          "Feb",
          "Maa",
          "Apr",
          "Mei",
          "Jun",
          "Jul",
          "Aug",
          "Sep",
          "Okt",
          "Nov",
          "Dec"
         ],
         "xaxis": "x2",
         "y": {
          "bdata": "FK5H4XoUBsCamZmZmZnpvzMzMzMzMwlA7FG4HoVrIUBmZmZmZuYsQLgehetReDNAKVyPwvUoNkCuR+F6FC41QGZmZmZm5jBACtejcD0KJEAAAAAAAAAKQArXo3A9Cvu/",
          "dtype": "f8"
         },
         "yaxis": "y2"
        },
        {
         "marker": {
          "color": "#6094AA",
          "line": {
           "color": "#000000",
           "width": 2
          }
         },
         "type": "bar",
         "visible": false,
         "x": [
          "Kenia"
         ],
         "xaxis": "x",
         "y": [
          0.1857374718227068
         ],
         "yaxis": "y"
        },
        {
         "marker": {
          "color": "#65B1C5"
         },
         "r": {
          "bdata": "exSuByFYSkG4HoVr03chQVyPwvXIft9ASOF6BPpbU0EAAAAAALPJQAAAAAAAAPh/AAAAAAAA+H8AAAAAx8hgQa5H4TpZuEJB",
          "dtype": "f8"
         },
         "subplot": "polar",
         "theta": [
          0,
          40,
          80,
          120,
          160,
          200,
          240,
          280,
          320
         ],
         "type": "barpolar",
         "visible": false,
         "width": [
          32,
          32,
          32,
          32,
          32,
          32,
          32,
          32,
          32
         ]
        },
        {
         "marker": {
          "color": "#83CFE5",
          "line": {
           "color": "#000000",
           "width": 1
          }
         },
         "opacity": 0.7,
         "type": "bar",
         "visible": false,
         "x": [
          "Jan",
          "Feb",
          "Maa",
          "Apr",
          "Mei",
          "Jun",
          "Jul",
          "Aug",
          "Sep",
          "Okt",
          "Nov",
          "Dec"
         ],
         "xaxis": "x2",
         "y": {
          "bdata": "uB6F61G4QUAfhetRuB45QBSuR+F6FE9AH4XrUbieWUCamZmZmTlRQPYoXI/CNUNAXI/C9Sj8Q0AfhetRuL5GQMP1KFyPYkBAcT0K16MAUECkcD0K14NaQClcj8L1aE5A",
          "dtype": "f8"
         },
         "yaxis": "y3"
        },
        {
         "line": {
          "color": "#CA4A4A"
         },
         "marker": {
          "color": "#CA4A4A"
         },
         "mode": "lines+markers",
         "type": "scatter",
         "visible": false,
         "x": [
          "Jan",
          "Feb",
          "Maa",
          "Apr",
          "Mei",
          "Jun",
          "Jul",
          "Aug",
          "Sep",
          "Okt",
          "Nov",
          "Dec"
         ],
         "xaxis": "x2",
         "y": {
          "bdata": "pHA9CtfjOUDD9Shcj8I6QOF6FK5H4TpAH4XrUbjeOUAfhetRuF45QHsUrkfhejhAAAAAAADAN0A9CtejcP03QK5H4XoU7jhApHA9CtdjOUBSuB6F69E4QDMzMzMzMzlA",
          "dtype": "f8"
         },
         "yaxis": "y2"
        }
       ],
       "layout": {
        "annotations": [
         {
          "font": {
           "size": 16
          },
          "showarrow": false,
          "text": "Grafiek 1",
          "x": 0.47,
          "xanchor": "center",
          "xref": "paper",
          "y": 1,
          "yanchor": "bottom",
          "yref": "paper",
          "yshift": -20
         },
         {
          "font": {
           "size": 16
          },
          "showarrow": false,
          "text": "Grafiek 2",
          "x": 0.47,
          "xanchor": "center",
          "xref": "paper",
          "y": 0.71,
          "yanchor": "bottom",
          "yref": "paper",
          "yshift": -20
         },
         {
          "font": {
           "size": 16
          },
          "showarrow": false,
          "text": "Grafiek 3",
          "x": 0.47,
          "xanchor": "center",
          "xref": "paper",
          "y": 0.252,
          "yanchor": "bottom",
          "yref": "paper",
          "yshift": -20
         },
         {
          "align": "center",
          "font": {
           "size": 16
          },
          "showarrow": false,
          "text": "Alle indicatoren per land<br>Grafiek 1: CO₂-uitstoot per hoofd van de bevolking (2022)<br>Grafiek 2: Landbouwproductie per categorie (2022)<br>Grafiek 3: Maandelijkse temperatuur en neerslag (2022)",
          "x": 0.5,
          "xref": "paper",
          "y": 1.2,
          "yref": "paper",
          "yshift": -20
         }
        ],
        "font": {
         "color": "#000000"
        },
        "height": 1350,
        "margin": {
         "b": 50,
         "l": 50,
         "r": 50,
         "t": 180
        },
        "paper_bgcolor": "#FFFFFF",
        "plot_bgcolor": "#FFFFFF",
        "polar": {
         "angularaxis": {
          "gridcolor": "#444444",
          "showgrid": true,
          "ticktext": [
           "Fruit",
           "Granen en Ceralia",
           "Jute/Hennep",
           "Vee en Dierlijke Producten",
           "Oliegewassen",
           "Rubber",
           "Zijde",
           "Suikerriet",
           "Groenten"
          ],
          "tickvals": {
           "bdata": "AAAAAAAAAAAAAAAAAABEQAAAAAAAAFRAAAAAAAAAXkAAAAAAAABkQAAAAAAAAGlAAAAAAAAAbkAAAAAAAIBxQAAAAAAAAHRA",
           "dtype": "f8"
          }
         },
         "bgcolor": "#FFFFFF",
         "domain": {
          "x": [
           0,
           0.94
          ],
          "y": [
           0.332,
           0.71
          ]
         },
         "radialaxis": {
          "gridcolor": "#444444",
          "showgrid": true
         }
        },
        "showlegend": false,
        "template": {
         "data": {
          "bar": [
           {
            "error_x": {
             "color": "#2a3f5f"
            },
            "error_y": {
             "color": "#2a3f5f"
            },
            "marker": {
             "line": {
              "color": "#E5ECF6",
              "width": 0.5
             },
             "pattern": {
              "fillmode": "overlay",
              "size": 10,
              "solidity": 0.2
             }
            },
            "type": "bar"
           }
          ],
          "barpolar": [
           {
            "marker": {
             "line": {
              "color": "#E5ECF6",
              "width": 0.5
             },
             "pattern": {
              "fillmode": "overlay",
              "size": 10,
              "solidity": 0.2
             }
            },
            "type": "barpolar"
           }
          ],
          "carpet": [
           {
            "aaxis": {
             "endlinecolor": "#2a3f5f",
             "gridcolor": "white",
             "linecolor": "white",
             "minorgridcolor": "white",
             "startlinecolor": "#2a3f5f"
            },
            "baxis": {
             "endlinecolor": "#2a3f5f",
             "gridcolor": "white",
             "linecolor": "white",
             "minorgridcolor": "white",
             "startlinecolor": "#2a3f5f"
            },
            "type": "carpet"
           }
          ],
          "choropleth": [
           {
            "colorbar": {
             "outlinewidth": 0,
             "ticks": ""
            },
            "type": "choropleth"
           }
          ],
          "contour": [
           {
            "colorbar": {
             "outlinewidth": 0,
             "ticks": ""
            },
            "colorscale": [
             [
              0,
              "#0d0887"
             ],
             [
              0.1111111111111111,
              "#46039f"
             ],
             [
              0.2222222222222222,
              "#7201a8"
             ],
             [
              0.3333333333333333,
              "#9c179e"
             ],
             [
              0.4444444444444444,
              "#bd3786"
             ],
             [
              0.5555555555555556,
              "#d8576b"
             ],
             [
              0.6666666666666666,
              "#ed7953"
             ],
             [
              0.7777777777777778,
              "#fb9f3a"
             ],
             [
              0.8888888888888888,
              "#fdca26"
             ],
             [
              1,
              "#f0f921"
             ]
            ],
            "type": "contour"
           }
          ],
          "contourcarpet": [
           {
            "colorbar": {
             "outlinewidth": 0,
             "ticks": ""
            },
            "type": "contourcarpet"
           }
          ],
          "heatmap": [
           {
            "colorbar": {
             "outlinewidth": 0,
             "ticks": ""
            },
            "colorscale": [
             [
              0,
              "#0d0887"
             ],
             [
              0.1111111111111111,
              "#46039f"
             ],
             [
              0.2222222222222222,
              "#7201a8"
             ],
             [
              0.3333333333333333,
              "#9c179e"
             ],
             [
              0.4444444444444444,
              "#bd3786"
             ],
             [
              0.5555555555555556,
              "#d8576b"
             ],
             [
              0.6666666666666666,
              "#ed7953"
             ],
             [
              0.7777777777777778,
              "#fb9f3a"
             ],
             [
              0.8888888888888888,
              "#fdca26"
             ],
             [
              1,
              "#f0f921"
             ]
            ],
            "type": "heatmap"
           }
          ],
          "histogram": [
           {
            "marker": {
             "pattern": {
              "fillmode": "overlay",
              "size": 10,
              "solidity": 0.2
             }
            },
            "type": "histogram"
           }
          ],
          "histogram2d": [
           {
            "colorbar": {
             "outlinewidth": 0,
             "ticks": ""
            },
            "colorscale": [
             [
              0,
              "#0d0887"
             ],
             [
              0.1111111111111111,
              "#46039f"
             ],
             [
              0.2222222222222222,
              "#7201a8"
             ],
             [
              0.3333333333333333,
              "#9c179e"
             ],
             [
              0.4444444444444444,
              "#bd3786"
             ],
             [
              0.5555555555555556,
              "#d8576b"
             ],
             [
              0.6666666666666666,
              "#ed7953"
             ],
             [
              0.7777777777777778,
              "#fb9f3a"
             ],
             [
              0.8888888888888888,
              "#fdca26"
             ],
             [
              1,
              "#f0f921"
             ]
            ],
            "type": "histogram2d"
           }
          ],
          "histogram2dcontour": [
           {
            "colorbar": {
             "outlinewidth": 0,
             "ticks": ""
            },
            "colorscale": [
             [
              0,
              "#0d0887"
             ],
             [
              0.1111111111111111,
              "#46039f"
             ],
             [
              0.2222222222222222,
              "#7201a8"
             ],
             [
              0.3333333333333333,
              "#9c179e"
             ],
             [
              0.4444444444444444,
              "#bd3786"
             ],
             [
              0.5555555555555556,
              "#d8576b"
             ],
             [
              0.6666666666666666,
              "#ed7953"
             ],
             [
              0.7777777777777778,
              "#fb9f3a"
             ],
             [
              0.8888888888888888,
              "#fdca26"
             ],
             [
              1,
              "#f0f921"
             ]
            ],
            "type": "histogram2dcontour"
           }
          ],
          "mesh3d": [
           {
            "colorbar": {
             "outlinewidth": 0,
             "ticks": ""
            },
            "type": "mesh3d"
           }
          ],
          "parcoords": [
           {
            "line": {
             "colorbar": {
              "outlinewidth": 0,
              "ticks": ""
             }
            },
            "type": "parcoords"
           }
          ],
          "pie": [
           {
            "automargin": true,
            "type": "pie"
           }
          ],
          "scatter": [
           {
            "fillpattern": {
             "fillmode": "overlay",
             "size": 10,
             "solidity": 0.2
            },
            "type": "scatter"
           }
          ],
          "scatter3d": [
           {
            "line": {
             "colorbar": {
              "outlinewidth": 0,
              "ticks": ""
             }
            },
            "marker": {
             "colorbar": {
              "outlinewidth": 0,
              "ticks": ""
             }
            },
            "type": "scatter3d"
           }
          ],
          "scattercarpet": [
           {
            "marker": {
             "colorbar": {
              "outlinewidth": 0,
              "ticks": ""
             }
            },
            "type": "scattercarpet"
           }
          ],
          "scattergeo": [
           {
            "marker": {
             "colorbar": {
              "outlinewidth": 0,
              "ticks": ""
             }
            },
            "type": "scattergeo"
           }
          ],
          "scattergl": [
           {
            "marker": {
             "colorbar": {
              "outlinewidth": 0,
              "ticks": ""
             }
            },
            "type": "scattergl"
           }
          ],
          "scattermap": [
           {
            "marker": {
             "colorbar": {
              "outlinewidth": 0,
              "ticks": ""
             }
            },
            "type": "scattermap"
           }
          ],
          "scattermapbox": [
           {
            "marker": {
             "colorbar": {
              "outlinewidth": 0,
              "ticks": ""
             }
            },
            "type": "scattermapbox"
           }
          ],
          "scatterpolar": [
           {
            "marker": {
             "colorbar": {
              "outlinewidth": 0,
              "ticks": ""
             }
            },
            "type": "scatterpolar"
           }
          ],
          "scatterpolargl": [
           {
            "marker": {
             "colorbar": {
              "outlinewidth": 0,
              "ticks": ""
             }
            },
            "type": "scatterpolargl"
           }
          ],
          "scatterternary": [
           {
            "marker": {
             "colorbar": {
              "outlinewidth": 0,
              "ticks": ""
             }
            },
            "type": "scatterternary"
           }
          ],
          "surface": [
           {
            "colorbar": {
             "outlinewidth": 0,
             "ticks": ""
            },
            "colorscale": [
             [
              0,
              "#0d0887"
             ],
             [
              0.1111111111111111,
              "#46039f"
             ],
             [
              0.2222222222222222,
              "#7201a8"
             ],
             [
              0.3333333333333333,
              "#9c179e"
             ],
             [
              0.4444444444444444,
              "#bd3786"
             ],
             [
              0.5555555555555556,
              "#d8576b"
             ],
             [
              0.6666666666666666,
              "#ed7953"
             ],
             [
              0.7777777777777778,
              "#fb9f3a"
             ],
             [
              0.8888888888888888,
              "#fdca26"
             ],
             [
              1,
              "#f0f921"
             ]
            ],
            "type": "surface"
           }
          ],
          "table": [
           {
            "cells": {
             "fill": {
              "color": "#EBF0F8"
             },
             "line": {
              "color": "white"
             }
            },
            "header": {
             "fill": {
              "color": "#C8D4E3"
             },
             "line": {
              "color": "white"
             }
            },
            "type": "table"
           }
          ]
         },
         "layout": {
          "annotationdefaults": {
           "arrowcolor": "#2a3f5f",
           "arrowhead": 0,
           "arrowwidth": 1
          },
          "autotypenumbers": "strict",
          "coloraxis": {
           "colorbar": {
            "outlinewidth": 0,
            "ticks": ""
           }
          },
          "colorscale": {
           "diverging": [
            [
             0,
             "#8e0152"
            ],
            [
             0.1,
             "#c51b7d"
            ],
            [
             0.2,
             "#de77ae"
            ],
            [
             0.3,
             "#f1b6da"
            ],
            [
             0.4,
             "#fde0ef"
            ],
            [
             0.5,
             "#f7f7f7"
            ],
            [
             0.6,
             "#e6f5d0"
            ],
            [
             0.7,
             "#b8e186"
            ],
            [
             0.8,
             "#7fbc41"
            ],
            [
             0.9,
             "#4d9221"
            ],
            [
             1,
             "#276419"
            ]
           ],
           "sequential": [
            [
             0,
             "#0d0887"
            ],
            [
             0.1111111111111111,
             "#46039f"
            ],
            [
             0.2222222222222222,
             "#7201a8"
            ],
            [
             0.3333333333333333,
             "#9c179e"
            ],
            [
             0.4444444444444444,
             "#bd3786"
            ],
            [
             0.5555555555555556,
             "#d8576b"
            ],
            [
             0.6666666666666666,
             "#ed7953"
            ],
            [
             0.7777777777777778,
             "#fb9f3a"
            ],
            [
             0.8888888888888888,
             "#fdca26"
            ],
            [
             1,
             "#f0f921"
            ]
           ],
           "sequentialminus": [
            [
             0,
             "#0d0887"
            ],
            [
             0.1111111111111111,
             "#46039f"
            ],
            [
             0.2222222222222222,
             "#7201a8"
            ],
            [
             0.3333333333333333,
             "#9c179e"
            ],
            [
             0.4444444444444444,
             "#bd3786"
            ],
            [
             0.5555555555555556,
             "#d8576b"
            ],
            [
             0.6666666666666666,
             "#ed7953"
            ],
            [
             0.7777777777777778,
             "#fb9f3a"
            ],
            [
             0.8888888888888888,
             "#fdca26"
            ],
            [
             1,
             "#f0f921"
            ]
           ]
          },
          "colorway": [
           "#636efa",
           "#EF553B",
           "#00cc96",
           "#ab63fa",
           "#FFA15A",
           "#19d3f3",
           "#FF6692",
           "#B6E880",
           "#FF97FF",
           "#FECB52"
          ],
          "font": {
           "color": "#2a3f5f"
          },
          "geo": {
           "bgcolor": "white",
           "lakecolor": "white",
           "landcolor": "#E5ECF6",
           "showlakes": true,
           "showland": true,
           "subunitcolor": "white"
          },
          "hoverlabel": {
           "align": "left"
          },
          "hovermode": "closest",
          "mapbox": {
           "style": "light"
          },
          "paper_bgcolor": "white",
          "plot_bgcolor": "#E5ECF6",
          "polar": {
           "angularaxis": {
            "gridcolor": "white",
            "linecolor": "white",
            "ticks": ""
           },
           "bgcolor": "#E5ECF6",
           "radialaxis": {
            "gridcolor": "white",
            "linecolor": "white",
            "ticks": ""
           }
          },
          "scene": {
           "xaxis": {
            "backgroundcolor": "#E5ECF6",
            "gridcolor": "white",
            "gridwidth": 2,
            "linecolor": "white",
            "showbackground": true,
            "ticks": "",
            "zerolinecolor": "white"
           },
           "yaxis": {
            "backgroundcolor": "#E5ECF6",
            "gridcolor": "white",
            "gridwidth": 2,
            "linecolor": "white",
            "showbackground": true,
            "ticks": "",
            "zerolinecolor": "white"
           },
           "zaxis": {
            "backgroundcolor": "#E5ECF6",
            "gridcolor": "white",
            "gridwidth": 2,
            "linecolor": "white",
            "showbackground": true,
            "ticks": "",
            "zerolinecolor": "white"
           }
          },
          "shapedefaults": {
           "line": {
            "color": "#2a3f5f"
           }
          },
          "ternary": {
           "aaxis": {
            "gridcolor": "white",
            "linecolor": "white",
            "ticks": ""
           },
           "baxis": {
            "gridcolor": "white",
            "linecolor": "white",
            "ticks": ""
           },
           "bgcolor": "#E5ECF6",
           "caxis": {
            "gridcolor": "white",
            "linecolor": "white",
            "ticks": ""
           }
          },
          "title": {
           "x": 0.05
          },
          "xaxis": {
           "automargin": true,
           "gridcolor": "white",
           "linecolor": "white",
           "ticks": "",
           "title": {
            "standoff": 15
           },
           "zerolinecolor": "white",
           "zerolinewidth": 2
          },
          "yaxis": {
           "automargin": true,
           "gridcolor": "white",
           "linecolor": "white",
           "ticks": "",
           "title": {
            "standoff": 15
           },
           "zerolinecolor": "white",
           "zerolinewidth": 2
          }
         }
        },
        "updatemenus": [
         {
          "active": 0,
          "buttons": [
           {
            "args": [
             {
              "visible": [
               true,
               true,
               true,
               true,
               false,
               false,
               false,
               false,
               false,
               false,
               false,
               false,
               false,
               false,
               false,
               false
              ]
             },
             {}
            ],
            "label": "Brazilië",
            "method": "update"
           },
           {
            "args": [
             {
              "visible": [
               false,
               false,
               false,
               false,
               true,
               true,
               true,
               true,
               false,
               false,
               false,
               false,
               false,
               false,
               false,
               false
              ]
             },
             {}
            ],
            "label": "Nederland",
            "method": "update"
           },
           {
            "args": [
             {
              "visible": [
               false,
               false,
               false,
               false,
               false,
               false,
               false,
               false,
               true,
               true,
               true,
               true,
               false,
               false,
               false,
               false
              ]
             },
             {}
            ],
            "label": "Verenigde Staten",
            "method": "update"
           },
           {
            "args": [
             {
              "visible": [
               false,
               false,
               false,
               false,
               false,
               false,
               false,
               false,
               false,
               false,
               false,
               false,
               true,
               true,
               true,
               true
              ]
             },
             {}
            ],
            "label": "Kenia",
            "method": "update"
           }
          ],
          "direction": "down",
          "font": {
           "size": 16
          },
          "pad": {
           "b": 10,
           "l": 10,
           "r": 10,
           "t": 10
          },
          "x": 0.1,
          "xanchor": "left",
          "y": 1.38,
          "yanchor": "top"
         }
        ],
        "width": 700,
        "xaxis": {
         "anchor": "y",
         "domain": [
          0,
          0.94
         ]
        },
        "xaxis2": {
         "anchor": "y2",
         "categoryarray": [
          "Jan",
          "Feb",
          "Maa",
          "Apr",
          "Mei",
          "Jun",
          "Jul",
          "Aug",
          "Sep",
          "Okt",
          "Nov",
          "Dec"
         ],
         "categoryorder": "array",
         "domain": [
          0,
          0.94
         ],
         "gridcolor": "#444444",
         "showgrid": true,
         "type": "category"
        },
        "yaxis": {
         "anchor": "x",
         "domain": [
          0.79,
          1
         ],
         "dtick": 0.5,
         "gridcolor": "#444444",
         "range": [
          0,
          2
         ],
         "showgrid": true
        },
        "yaxis2": {
         "anchor": "x2",
         "domain": [
          0,
          0.252
         ],
         "dtick": 5,
         "gridcolor": "#444444",
         "range": [
          -2.76,
          26.88
         ],
         "showgrid": true
        },
        "yaxis3": {
         "anchor": "x2",
         "overlaying": "y2",
         "showgrid": false,
         "side": "right"
        }
       }
      }
     },
     "metadata": {},
     "output_type": "display_data"
    }
   ],
   "source": [
    "import pandas as pd\n",
    "import numpy as np\n",
    "import plotly.graph_objects as go\n",
    "from plotly.subplots import make_subplots\n",
    "import plotly.io as pio\n",
    "pio.renderers.default = \"vscode\"\n",
    "\n",
    "# ==== MANUELE SPACING INSTELLEN ====\n",
    "row_heights        = [0.25, 0.45, 0.30]\n",
    "vertical_spacing   = 0.08\n",
    "subplot_title_pad  = 20\n",
    "top_margin         = 180\n",
    "title_pad_top      = 30\n",
    "\n",
    "# ==== COLOUR PANEL ====\n",
    "colours = {\n",
    "    'background':        '#FFFFFF',\n",
    "    'font':              '#000000',\n",
    "    'grid':              '#444444',\n",
    "    'emissions_bar':     '#6094AA',\n",
    "    'emissions_outline': '#000000',\n",
    "    'production_bar':    \"#65B1C5\",\n",
    "    'polar_bg':          '#FFFFFF',\n",
    "    'precip_fill':       '#83CFE5',\n",
    "    'precip_outline':    '#000000',\n",
    "    'temp_line':         '#CA4A4A',\n",
    "    'temp_marker':       '#CA4A4A'\n",
    "}\n",
    "\n",
    "# ==== NAME MAPPING ====\n",
    "name_map = {\n",
    "    'Netherlands (Kingdom of the)': 'Netherlands',\n",
    "    'United States of America':      'United States'\n",
    "}\n",
    "\n",
    "# ==== DUTCH TRANSLATIONS ====\n",
    "dutch_country_names = {\n",
    "    'Brazil': 'Brazilië',\n",
    "    'Netherlands': 'Nederland',\n",
    "    'United States': 'Verenigde Staten',\n",
    "    'Kenya': 'Kenia'\n",
    "}\n",
    "\n",
    "dutch_month_names = {\n",
    "    'Jan': 'Jan','Feb': 'Feb','Mar': 'Maa','Apr': 'Apr',\n",
    "    'May': 'Mei','Jun': 'Jun','Jul': 'Jul','Aug': 'Aug',\n",
    "    'Sep': 'Sep','Oct': 'Okt','Nov': 'Nov','Dec': 'Dec'\n",
    "}\n",
    "\n",
    "dutch_category_names = {\n",
    "    'Fruits': 'Fruit',\n",
    "    'Vegetables': 'Groenten',\n",
    "    'Grains & Cereals': 'Granen en Ceralia',\n",
    "    'Oil Crops': 'Oliegewassen',\n",
    "    'Livestock & Animal Products': 'Vee en Dierlijke Producten',\n",
    "    'Sugar cane': 'Suikerriet',\n",
    "    'Cotton': 'Katoen',\n",
    "    'Rubber': 'Rubber',\n",
    "    'Silk': 'Zijde',\n",
    "    'Jute/Hemp': 'Jute/Hennep'\n",
    "}\n",
    "\n",
    "# ==== CATEGORY MAP ====\n",
    "category_map = {\n",
    "    'Apples':'Fruits','Bananas':'Fruits','Oranges':'Fruits','Pineapples':'Fruits',\n",
    "    'Mangoes, mangosteens, guavas':'Fruits','Papayas':'Fruits','Watermelons':'Fruits',\n",
    "    'Grapes':'Fruits','Lemons and limes':'Fruits','Tangerines, mandarins, clementines':'Fruits',\n",
    "    'Cantaloupes and other melons':'Fruits','Pears':'Fruits','Peaches and nectarines':'Fruits',\n",
    "    'Avocados':'Fruits','Strawberries':'Fruits','Plums and sloes':'Fruits','Cherries':'Fruits',\n",
    "    'Pomegranates':'Fruits','Pomelos and grapefruits':'Fruits','Figs':'Fruits','Persimmons':'Fruits',\n",
    "    'Currants':'Fruits','Sour cherries':'Fruits','Olives':'Fruits',\n",
    "    'Plantains and cooking bananas':'Fruits','Cranberries':'Fruits',\n",
    "    'Tomatoes':'Vegetables','Onions, dry':'Vegetables','Cabbages':'Vegetables',\n",
    "    'Carrots and turnips':'Vegetables','Lettuce and chicory':'Vegetables','Spinach':'Vegetables',\n",
    "    'Cauliflowers and broccoli':'Vegetables','Cucumbers and gherkins':'Vegetables',\n",
    "    'Pumpkins, squash and gourds':'Vegetables','Garlic':'Vegetables',\n",
    "    'Leeks, other alliaceous vegetables':'Vegetables','Mushrooms and truffles':'Vegetables',\n",
    "    'Eggplants (aubergines)':'Vegetables','Peas, green':'Vegetables',\n",
    "    'Artichokes':'Vegetables','Asparagus':'Vegetables',\n",
    "    'Wheat':'Grains & Cereals','Maize':'Grains & Cereals','Rice, paddy':'Grains & Cereals',\n",
    "    'Barley':'Grains & Cereals','Sorghum':'Grains & Cereals','Millet':'Grains & Cereals',\n",
    "    'Oats':'Grains & Cereals','Rye':'Grains & Cereals','Triticale':'Grains & Cereals',\n",
    "    'Quinoa':'Grains & Cereals','Canary seed':'Grains & Cereals','Cereals n.e.c.':'Grains & Cereals',\n",
    "    'Soybeans':'Oil Crops','Rapeseed':'Oil Crops','Sunflower seed':'Oil Crops','Oil palm fruit':'Oil Crops',\n",
    "    'Groundnuts, in shell':'Oil Crops','Sesame seed':'Oil Crops','Safflower seed':'Oil Crops',\n",
    "    'Mustard seed':'Oil Crops','Flaxseed':'Oil Crops','Hempseed':'Oil Crops','Linseed':'Oil Crops',\n",
    "    'Palm kernels':'Oil Crops','Castor oil seeds':'Oil Crops',\n",
    "    'Cattle':'Livestock & Animal Products','Buffalo':'Livestock & Animal Products','Sheep':'Livestock & Animal Products',\n",
    "    'Goats':'Livestock & Animal Products','Chickens':'Livestock & Animal Products','Ducks':'Livestock & Animal Products',\n",
    "    'Turkeys':'Livestock & Animal Products','Geese and guinea fowls':'Livestock & Animal Products',\n",
    "    'Pigeons, other birds':'Livestock & Animal Products','Rabbits and hares':'Livestock & Animal Products',\n",
    "    'Camels':'Livestock & Animal Products','Horses':'Livestock & Animal Products','Mules':'Livestock & Animal Products',\n",
    "    'Hen eggs, in shell':'Livestock & Animal Products','Raw milk of cattle':'Livestock & Animal Products',\n",
    "    'Raw milk of buffalo':'Livestock & Animal Products','Raw milk of sheep':'Livestock & Animal Products',\n",
    "    'Raw milk of goats':'Livestock & Animal Products','Honey':'Livestock & Animal Products',\n",
    "    'Livestock fat':'Livestock & Animal Products','Meat':'Livestock & Animal Products',\n",
    "    'Sugar cane':'Sugar cane',\n",
    "    'Cotton lint':'Cotton','Cottonseed':'Cotton',\n",
    "    'Rubber, natural':'Rubber','Natural rubber in primary forms':'Rubber',\n",
    "    'Silk-worm cocoons, reelable':'Silk','Raw silk (not thrown)':'Silk',\n",
    "    'Jute, raw or retted':'Jute/Hemp','True hemp, raw or retted':'Jute/Hemp',\n",
    "    'Ramie, raw or retted':'Jute/Hemp','Kenaf, and other textile bast fibres, raw or retted':'Jute/Hemp',\n",
    "    'Sisal, raw':'Jute/Hemp','Coir, raw':'Jute/Hemp','Kapok fibre, raw':'Jute/Hemp'\n",
    "}\n",
    "\n",
    "# ==== 1) LOAD & PREP ====\n",
    "prod = pd.read_csv('datasets/FAOSTAT_production_arg3.csv')\n",
    "prod['Country'] = prod['Area'].replace(name_map)\n",
    "prod['Category'] = prod['Item'].map(category_map)\n",
    "prod_df = prod.query(\"Element=='Production' & Year==2022 & Unit=='t'\").dropna(subset=['Category'])\n",
    "grouped_prod = prod_df.groupby(['Country','Category'])['Value'].sum().reset_index()\n",
    "\n",
    "# ==== 2) EMISSIONS ====\n",
    "em  = pd.read_csv('datasets/FAOSTAT_data_en_6-26-2025-6.csv')\n",
    "pop = pd.read_csv('datasets/API_SP.POP.TOTL_DS2_en_csv_v2_124794.csv', skiprows=4)\n",
    "em['Area'] = em['Area'].replace(name_map)\n",
    "pop['Country Name'] = pop['Country Name'].replace(name_map)\n",
    "\n",
    "countries = ['Brazil','Netherlands','United States','Kenya']\n",
    "em2    = em.query(\"Year==2022 and Area in @countries\")\n",
    "em_tot = em2.groupby('Area')['Value'].sum().reset_index().rename(columns={'Area':'Country','Value':'Total_Emissions'})\n",
    "pop2   = pop[['Country Name','2022']].rename(columns={'Country Name':'Country','2022':'Population'})\n",
    "merged_em = pd.merge(em_tot, pop2, on='Country')\n",
    "merged_em['Emissions_per_capita'] = merged_em['Total_Emissions'] / merged_em['Population']\n",
    "\n",
    "# ==== 3) TEMP & PRECIP ====\n",
    "tp = pd.read_csv('datasets/combined_2022.csv')\n",
    "tp['name'] = tp['name'].replace({'United States of America':'United States'})\n",
    "tp = tp[tp['name'].isin(countries)]\n",
    "tp['Month']     = pd.to_datetime(tp['Month'], format='%Y-%m')\n",
    "tp['Month_str'] = tp['Month'].dt.strftime('%b').map(dutch_month_names)\n",
    "month_order     = tp.sort_values('Month')['Month_str'].unique()\n",
    "y_temp_min, y_temp_max = tp['Temperature'].min(), tp['Temperature'].max()\n",
    "\n",
    "# ==== GRAPH TITLES ====\n",
    "graph_titles = [\n",
    "    \"CO₂-uitstoot per hoofd van de bevolking (2022)\",\n",
    "    \"Landbouwproductie per categorie (2022)\",\n",
    "    \"Maandelijkse temperatuur en neerslag (2022)\"\n",
    "]\n",
    "\n",
    "# ==== BUILD FIGURE ====\n",
    "fig = make_subplots(\n",
    "    rows=3, cols=1,\n",
    "    specs=[[{'type':'xy'}],[{'type':'polar'}],[{'type':'xy','secondary_y':True}]],\n",
    "    row_heights=row_heights,\n",
    "    vertical_spacing=vertical_spacing,\n",
    "    subplot_titles=(\"Grafiek 1\",\"Grafiek 2\",\"Grafiek 3\")\n",
    ")\n",
    "\n",
    "categories       = sorted(grouped_prod['Category'].unique())\n",
    "dutch_categories = [dutch_category_names.get(cat,cat) for cat in categories]\n",
    "angles           = np.linspace(0, 360, len(categories), endpoint=False)\n",
    "\n",
    "for i, country in enumerate(countries):\n",
    "    val = merged_em.loc[merged_em['Country']==country, 'Emissions_per_capita'].iat[0]\n",
    "    fig.add_trace(go.Bar(\n",
    "        x=[dutch_country_names[country]], y=[val],\n",
    "        marker=dict(color=colours['emissions_bar'],\n",
    "                    line=dict(color=colours['emissions_outline'], width=2)),\n",
    "        visible=(i==0)\n",
    "    ), row=1, col=1)\n",
    "\n",
    "    dfp = (grouped_prod.query(\"Country==@country\")\n",
    "           .set_index('Category').reindex(categories).reset_index())\n",
    "    fig.add_trace(go.Barpolar(\n",
    "        r=dfp['Value'],\n",
    "        theta=[angles[categories.index(c)] for c in dfp['Category']],\n",
    "        width=[360/len(categories)*0.8]*len(categories),\n",
    "        marker_color=colours['production_bar'],\n",
    "        visible=(i==0)\n",
    "    ), row=2, col=1)\n",
    "\n",
    "    dft = tp[tp['name']==country]\n",
    "    fig.add_trace(go.Bar(\n",
    "        x=dft['Month_str'], y=dft['Precipitation'],\n",
    "        marker=dict(color=colours['precip_fill'],\n",
    "                    line=dict(color=colours['precip_outline'], width=1)),\n",
    "        opacity=0.7, visible=(i==0)\n",
    "    ), row=3, col=1, secondary_y=True)\n",
    "\n",
    "    fig.add_trace(go.Scatter(\n",
    "        x=dft['Month_str'], y=dft['Temperature'],\n",
    "        mode='lines+markers',\n",
    "        line=dict(color=colours['temp_line']),\n",
    "        marker=dict(color=colours['temp_marker']),\n",
    "        visible=(i==0)\n",
    "    ), row=3, col=1, secondary_y=False)\n",
    "\n",
    "buttons = []\n",
    "for idx, country in enumerate(countries):\n",
    "    vis = [False]*len(fig.data)\n",
    "    for j in range(4):\n",
    "        vis[4*idx + j] = True\n",
    "    buttons.append(dict(\n",
    "        label=dutch_country_names[country],\n",
    "        method='update',\n",
    "        args=[{'visible': vis}, {}]\n",
    "    ))\n",
    "\n",
    "fig.update_layout(\n",
    "    updatemenus=[dict(\n",
    "        active=0,\n",
    "        buttons=buttons,\n",
    "        x=0.1, y=1.38, xanchor='left', yanchor='top',\n",
    "        direction='down',\n",
    "        pad=dict(l=10, r=10, t=10, b=10),   # <-- hier de padding instellen\n",
    "        font=dict(size=16)                   # <-- hier de lettergrootte (en dus dropdown-grootte)\n",
    "    )],\n",
    "    margin=dict(l=50, r=50, t=top_margin, b=50),\n",
    "    plot_bgcolor=colours['background'],\n",
    "    paper_bgcolor=colours['background'],\n",
    "    font=dict(color=colours['font']),\n",
    "    showlegend=False,\n",
    "    width=700,\n",
    "    height=1350,\n",
    "    polar=dict(bgcolor=colours['polar_bg'])\n",
    ")\n",
    "\n",
    "fig.add_annotation(\n",
    "    text=(\n",
    "        \"Alle indicatoren per land<br>\"\n",
    "        \"Grafiek 1: CO₂-uitstoot per hoofd van de bevolking (2022)<br>\"\n",
    "        \"Grafiek 2: Landbouwproductie per categorie (2022)<br>\"\n",
    "        \"Grafiek 3: Maandelijkse temperatuur en neerslag (2022)\"\n",
    "    ),\n",
    "    xref=\"paper\", yref=\"paper\",\n",
    "    x=0.5, y=1.2,\n",
    "    showarrow=False,\n",
    "    font=dict(size=16),\n",
    "    align=\"center\"\n",
    ")\n",
    "\n",
    "for ann in fig.layout.annotations:\n",
    "    ann.yshift = -subplot_title_pad\n",
    "\n",
    "fig.update_yaxes(row=1, col=1,\n",
    "    range=[0,2], dtick=0.5,\n",
    "    showgrid=True, gridcolor=colours['grid']\n",
    ")\n",
    "fig.update_layout(polar=dict(\n",
    "    radialaxis=dict(showgrid=True, gridcolor=colours['grid']),\n",
    "    angularaxis=dict(showgrid=True, gridcolor=colours['grid'],\n",
    "                     tickvals=angles, ticktext=dutch_categories)\n",
    "))\n",
    "fig.update_xaxes(row=3, col=1,\n",
    "    type='category',\n",
    "    categoryorder='array',\n",
    "    categoryarray=month_order,\n",
    "    showgrid=True, gridcolor=colours['grid']\n",
    ")\n",
    "fig.update_yaxes(row=3, col=1, secondary_y=False,\n",
    "    range=[y_temp_min,y_temp_max], dtick=5,\n",
    "    showgrid=True, gridcolor=colours['grid']\n",
    ")\n",
    "fig.update_yaxes(row=3, col=1, secondary_y=True, showgrid=False)\n",
    "\n",
    "fig.show()\n"
   ]
  },
  {
   "cell_type": "markdown",
   "id": "5041523b",
   "metadata": {},
   "source": [
    "<span style=\"font-size: 60%;\"> * We hebben de volumes van snijbloemen niet in de dataset opgenomen, omdat voor sommige landen (bv. Nederland en Kenia) betrouwbare productie­cijfers beschikbaar zijn, terwijl voor andere landen alleen exportwaarden of grove schattingen bestaan. Door deze ongelijksoortige bronnen zouden we een scheef beeld creëren. We vonden het daarom beter om de rol van sierteelt kwalitatief in de analyse te bespreken in plaats van kwantitatief in de grafiek te tonen; zo blijft de vergelijking tussen landen consistent en evenwichtig. Bovendien is snijbloementeelt in onze landenselectie feitelijk alleen relevant voor Nederland en Kenia; bij de Verenigde Staten en Brazilië speelt zij geen noemenswaardige rol.</br> * Let op: de schaalverdeling van de assen wisselt per land bij Grafiek 2.\n",
    "Dit is bewust zo gekozen om zowel hoge als lage waarden goed te laten uitkomen. Bij een uniforme asschaal zouden extreme uitschieters de weergave van kleinere waarden grotendeels verbergen. </span>"
   ]
  },
  {
   "cell_type": "markdown",
   "id": "cf261f6b",
   "metadata": {},
   "source": [
    "\n",
    "##### Waarom deze landen?\n",
    "We selecteerden Verenigde Staten, Nederland, Brazilië en Kenia omdat zij samen alle relevante landbouwklimaten afdekken. De VS vertegenwoordigt het gematigde landklimaat, Nederland het koele zeeklimaat, Brazilië het tropische savanne/moessonklimaat en Kenia het milde tropische hoogland."
   ]
  },
  {
   "cell_type": "markdown",
   "id": "986031d6",
   "metadata": {},
   "source": [
    "##### Analyse \n",
    "De Verenigde Staten liggen in een gematigde landklimaatzone (Köppen Dfa/Cfa) met koude winters, warme zomers en de meeste neerslag in de groeimaanden. De temperatuur- en neerslaggrafiek laat duidelijk zien dat slechts één lang, warm seizoen geschikt is voor akkerbouw. In dat venster floreren granen als maïs, tarwe en soja, en uitgestrekte graslanden bieden volop weide voor rundvee. Die gewassen domineren het radardiagram; tropische opties, zoals suikerriet, ontbreken omdat de winters te koud en de zomers niet vochtig genoeg zijn. Runderen produceren veel methaan en vragen extra voergranen, terwijl kunstmest bij graanteelt tot extra lachgas leidt. Dit emissie-intensieve pakket verklaart de hoge landbouw-CO₂-uitstoot per inwoner die in de eerste grafiek zo nadrukkelijk boven de andere landen uitsteekt. \n",
    "\n",
    "Het koele, natte zeeklimaat van Nederland (Köppen Cfb) kent milde zomers en winters rond drie graden. Gras groeit daardoor vrijwel het hele jaar, wat een grote melkveesector ondersteunt; dat segment is zichtbaar in het radardiagram. Daarnaast is Nederland, ondanks zijn geringe oppervlakte, ‘s werelds grootste exporteur van snijbloemen. Omdat het winterhalfjaar te koud en te donker is, worden tulpen, rozen en gerbera’s grotendeels in verwarmde en belichte kassen geteeld. Die kassen compenseren het klimaat, maar vergen veel gas en stroom. Zo stuwt juist de sierteelt de landbouw-CO₂-uitstoot per inwoner omhoog, al is de geproduceerde massa relatief klein. De balkgrafiek weerspiegelt dit: een compact land met een opvallend hoge uitstoot, puur doordat het klimaat energie-intensieve kasbloemen afdwingt.\n",
    "\n",
    "In Kenia toont de klimaatgrafiek jaarrond milde twintig graden met twee regenpieken. Dit hooglandklimaat (Köppen Cwb) is uitgelezen voor open-luchtteelt van thee, groenten én snijbloemen. Kenia is na Nederland de grootste bloemenexporteur ter wereld, maar hoeft voor rozen en alstroemeria nauwelijks kunstmatige verwarming of verlichting te gebruiken. De radardiagram laat die volumes niet afzonderlijk zien, toch komen ze uit velden rond Naivasha waar natuurlijke daglichturen en gelijkmatige temperaturen volstaan. Zonder kassen en met een bescheiden veestapel blijft Kenia’s landbouw-CO₂-uitstoot per inwoner vrijwel nihil, zoals de balkgrafiek bevestigt. Zo illustreert hetzelfde product – bloemen – hoe een gunstig klimaat de emissievoetafdruk drastisch kan verlagen.\n",
    "\n",
    "Brazilië kent een afwisseling van tropisch moesson- en savanneklimaat (Köppen Am/Aw) met een uitgesproken nat seizoen van november tot april en een drogere winter. Tijdens de vochtige, warme maanden groeien soja en suikerriet uitzonderlijk goed; in sommige regio’s is zelfs een tweede, korter maïsgewas na de soja mogelijk. Runderen kunnen jaar rond in open weiden grazen, omdat vorst ontbreekt. Deze patronen komen terug in het radardiagram, waar suikerriet, soja en vee domineren. Omdat verwarming, kunstlicht of winterstallen overbodig zijn, blijft de CO₂-uitstoot per inwoner matig. Toch leidt het drogere winterseizoen indirect tot extra emissies: savanne en bos worden vaak afgebrand om nieuwe landbouwgrond te winnen. Zo koppelt het klimaat zowel de productieve kansen als de emissierisico’s van Brazilië. Ondanks een landoppervlak vergelijkbaar met de VS laat Brazilië zien dat een warm, vochtig klimaat de per-capita uitstoot kan drukken wanneer kassen en wintervoer overbodig zijn.\n"
   ]
  }
 ],
 "metadata": {
  "kernelspec": {
   "display_name": "Python (info-vis)",
   "language": "python",
   "name": "info-vis"
  },
  "language_info": {
   "codemirror_mode": {
    "name": "ipython",
    "version": 3
   },
   "file_extension": ".py",
   "mimetype": "text/x-python",
   "name": "python",
   "nbconvert_exporter": "python",
   "pygments_lexer": "ipython3",
   "version": "3.10.16"
  }
 },
 "nbformat": 4,
 "nbformat_minor": 5
}
